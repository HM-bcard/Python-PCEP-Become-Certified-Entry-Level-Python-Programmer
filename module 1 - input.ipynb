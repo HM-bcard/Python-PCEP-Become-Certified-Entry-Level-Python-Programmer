{
 "cells": [
  {
   "cell_type": "code",
   "execution_count": 3,
   "id": "1c326429",
   "metadata": {},
   "outputs": [
    {
     "name": "stdout",
     "output_type": "stream",
     "text": [
      "Why?w\n"
     ]
    }
   ],
   "source": [
    "why_why = input('Why?')"
   ]
  },
  {
   "cell_type": "code",
   "execution_count": 4,
   "id": "de7725f3",
   "metadata": {},
   "outputs": [
    {
     "name": "stdout",
     "output_type": "stream",
     "text": [
      "w\n"
     ]
    }
   ],
   "source": [
    "print(why_why)"
   ]
  },
  {
   "cell_type": "code",
   "execution_count": 5,
   "id": "1a4e3e68",
   "metadata": {},
   "outputs": [
    {
     "data": {
      "text/plain": [
       "3"
      ]
     },
     "execution_count": 5,
     "metadata": {},
     "output_type": "execute_result"
    }
   ],
   "source": [
    " 7 //2"
   ]
  },
  {
   "cell_type": "code",
   "execution_count": 6,
   "id": "6cd7cacd",
   "metadata": {},
   "outputs": [],
   "source": [
    "# when you concatenate - python doesn't add spaces,\n",
    "# when you print separate elements - python adds spaces"
   ]
  },
  {
   "cell_type": "code",
   "execution_count": 7,
   "id": "b5493e61",
   "metadata": {},
   "outputs": [
    {
     "data": {
      "text/plain": [
       "4.5e-14"
      ]
     },
     "execution_count": 7,
     "metadata": {},
     "output_type": "execute_result"
    }
   ],
   "source": [
    "4.5e-14"
   ]
  },
  {
   "cell_type": "code",
   "execution_count": null,
   "id": "2fab5711",
   "metadata": {},
   "outputs": [],
   "source": []
  }
 ],
 "metadata": {
  "kernelspec": {
   "display_name": "Python 3 (ipykernel)",
   "language": "python",
   "name": "python3"
  },
  "language_info": {
   "codemirror_mode": {
    "name": "ipython",
    "version": 3
   },
   "file_extension": ".py",
   "mimetype": "text/x-python",
   "name": "python",
   "nbconvert_exporter": "python",
   "pygments_lexer": "ipython3",
   "version": "3.9.7"
  }
 },
 "nbformat": 4,
 "nbformat_minor": 5
}
