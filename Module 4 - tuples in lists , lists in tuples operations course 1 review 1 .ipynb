{
 "cells": [
  {
   "cell_type": "code",
   "execution_count": null,
   "id": "952e892f",
   "metadata": {},
   "outputs": [],
   "source": [
    "data = 'john', 'American' , 1964,  + 23, 44\n",
    "data2 = 'Harry','British', 1988\n",
    "data "
   ]
  }
 ],
 "metadata": {
  "kernelspec": {
   "display_name": "Python 3 (ipykernel)",
   "language": "python",
   "name": "python3"
  },
  "language_info": {
   "codemirror_mode": {
    "name": "ipython",
    "version": 3
   },
   "file_extension": ".py",
   "mimetype": "text/x-python",
   "name": "python",
   "nbconvert_exporter": "python",
   "pygments_lexer": "ipython3",
   "version": "3.9.7"
  }
 },
 "nbformat": 4,
 "nbformat_minor": 5
}
