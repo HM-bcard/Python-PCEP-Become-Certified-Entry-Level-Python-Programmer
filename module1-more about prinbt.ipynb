{
 "cells": [
  {
   "cell_type": "code",
   "execution_count": 3,
   "id": "b09c65ea",
   "metadata": {},
   "outputs": [
    {
     "name": "stdout",
     "output_type": "stream",
     "text": [
      "I'm learning to become a Python developer!\n",
      "I'm so excited\n"
     ]
    }
   ],
   "source": [
    "print('I\\'m learning to become a Python developer!\\nI\\'m so excited')"
   ]
  },
  {
   "cell_type": "code",
   "execution_count": null,
   "id": "28dbf2cd",
   "metadata": {},
   "outputs": [],
   "source": []
  }
 ],
 "metadata": {
  "kernelspec": {
   "display_name": "Python 3 (ipykernel)",
   "language": "python",
   "name": "python3"
  },
  "language_info": {
   "codemirror_mode": {
    "name": "ipython",
    "version": 3
   },
   "file_extension": ".py",
   "mimetype": "text/x-python",
   "name": "python",
   "nbconvert_exporter": "python",
   "pygments_lexer": "ipython3",
   "version": "3.9.7"
  }
 },
 "nbformat": 4,
 "nbformat_minor": 5
}
