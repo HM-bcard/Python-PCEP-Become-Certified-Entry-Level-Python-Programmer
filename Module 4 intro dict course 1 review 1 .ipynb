{
 "cells": [
  {
   "cell_type": "code",
   "execution_count": 1,
   "id": "c7f4c585",
   "metadata": {},
   "outputs": [],
   "source": [
    "# WHAT ARE DICTIONARIES - THEY ARE COLLECTIONS USED TO STORE KEY VALUE PAIRS"
   ]
  },
  {
   "cell_type": "code",
   "execution_count": 3,
   "id": "f51372e2",
   "metadata": {},
   "outputs": [],
   "source": [
    "email = {\n",
    "    'Anne': 'anna@anna.com',\n",
    "    'Matt': 'matt@wpx.com',\n",
    "    'Joe': 'joe@analytics.org' \n",
    "       \n",
    "    }\n"
   ]
  },
  {
   "cell_type": "code",
   "execution_count": null,
   "id": "c881853e",
   "metadata": {},
   "outputs": [],
   "source": [
    "print"
   ]
  }
 ],
 "metadata": {
  "kernelspec": {
   "display_name": "Python 3 (ipykernel)",
   "language": "python",
   "name": "python3"
  },
  "language_info": {
   "codemirror_mode": {
    "name": "ipython",
    "version": 3
   },
   "file_extension": ".py",
   "mimetype": "text/x-python",
   "name": "python",
   "nbconvert_exporter": "python",
   "pygments_lexer": "ipython3",
   "version": "3.9.7"
  }
 },
 "nbformat": 4,
 "nbformat_minor": 5
}
