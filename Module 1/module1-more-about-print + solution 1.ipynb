{
 "cells": [
  {
   "cell_type": "code",
   "execution_count": 1,
   "id": "83a13178",
   "metadata": {},
   "outputs": [
    {
     "ename": "NameError",
     "evalue": "name 'prnt' is not defined",
     "output_type": "error",
     "traceback": [
      "\u001b[1;31m---------------------------------------------------------------------------\u001b[0m",
      "\u001b[1;31mNameError\u001b[0m                                 Traceback (most recent call last)",
      "\u001b[1;32m~\\AppData\\Local\\Temp/ipykernel_26760/995123603.py\u001b[0m in \u001b[0;36m<module>\u001b[1;34m\u001b[0m\n\u001b[1;32m----> 1\u001b[1;33m \u001b[0mprnt\u001b[0m\u001b[1;33m(\u001b[0m\u001b[1;34m'XYZ'\u001b[0m\u001b[1;33m)\u001b[0m\u001b[1;33m\u001b[0m\u001b[1;33m\u001b[0m\u001b[0m\n\u001b[0m",
      "\u001b[1;31mNameError\u001b[0m: name 'prnt' is not defined"
     ]
    }
   ],
   "source": [
    "prnt('XYZ')"
   ]
  },
  {
   "cell_type": "code",
   "execution_count": 2,
   "id": "780dd455",
   "metadata": {},
   "outputs": [
    {
     "name": "stdout",
     "output_type": "stream",
     "text": [
      "I'm studying Python\n"
     ]
    }
   ],
   "source": [
    "print(\"I'm studying Python\")"
   ]
  },
  {
   "cell_type": "code",
   "execution_count": 3,
   "id": "f93e5023",
   "metadata": {},
   "outputs": [
    {
     "name": "stdout",
     "output_type": "stream",
     "text": [
      "I'm studyind Python\n"
     ]
    }
   ],
   "source": [
    "print('I\\'m studyind Python')"
   ]
  },
  {
   "cell_type": "code",
   "execution_count": 4,
   "id": "f27466b1",
   "metadata": {},
   "outputs": [
    {
     "ename": "SyntaxError",
     "evalue": "invalid syntax (Temp/ipykernel_26760/2434595114.py, line 1)",
     "output_type": "error",
     "traceback": [
      "\u001b[1;36m  File \u001b[1;32m\"C:\\Users\\Nouser\\AppData\\Local\\Temp/ipykernel_26760/2434595114.py\"\u001b[1;36m, line \u001b[1;32m1\u001b[0m\n\u001b[1;33m    print('I\\'m studying Python') print('and having fun!')\u001b[0m\n\u001b[1;37m                                  ^\u001b[0m\n\u001b[1;31mSyntaxError\u001b[0m\u001b[1;31m:\u001b[0m invalid syntax\n"
     ]
    }
   ],
   "source": [
    "print('I\\'m studying Python') print('and having fun!') "
   ]
  },
  {
   "cell_type": "code",
   "execution_count": 6,
   "id": "f88ad18d",
   "metadata": {},
   "outputs": [
    {
     "name": "stdout",
     "output_type": "stream",
     "text": [
      "I'm studying Python\n",
      "and having fun!\n"
     ]
    }
   ],
   "source": [
    "print('I\\'m studying Python')\n",
    "print('and having fun!')"
   ]
  },
  {
   "cell_type": "code",
   "execution_count": 7,
   "id": "320373cb",
   "metadata": {},
   "outputs": [
    {
     "name": "stdout",
     "output_type": "stream",
     "text": [
      "I'm studying Python and having fun!\n"
     ]
    }
   ],
   "source": [
    "print('I\\'m studying Python','and having fun!')"
   ]
  },
  {
   "cell_type": "code",
   "execution_count": 9,
   "id": "6853290f",
   "metadata": {},
   "outputs": [
    {
     "name": "stdout",
     "output_type": "stream",
     "text": [
      "I'm studying\n",
      "Python\n"
     ]
    }
   ],
   "source": [
    "print('I\\'m studying\\nPython')"
   ]
  },
  {
   "cell_type": "code",
   "execution_count": 1,
   "id": "95077793",
   "metadata": {},
   "outputs": [
    {
     "name": "stdout",
     "output_type": "stream",
     "text": [
      "I'm learning to become a Python developer!\n",
      "I'm so excited!\n"
     ]
    }
   ],
   "source": [
    "print('I\\'m learning to become a Python developer!\\nI\\'m so excited!')"
   ]
  },
  {
   "cell_type": "code",
   "execution_count": null,
   "id": "fab88ebc",
   "metadata": {},
   "outputs": [],
   "source": []
  }
 ],
 "metadata": {
  "kernelspec": {
   "display_name": "Python 3 (ipykernel)",
   "language": "python",
   "name": "python3"
  },
  "language_info": {
   "codemirror_mode": {
    "name": "ipython",
    "version": 3
   },
   "file_extension": ".py",
   "mimetype": "text/x-python",
   "name": "python",
   "nbconvert_exporter": "python",
   "pygments_lexer": "ipython3",
   "version": "3.9.7"
  }
 },
 "nbformat": 4,
 "nbformat_minor": 5
}
