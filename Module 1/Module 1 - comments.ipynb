{
 "cells": [
  {
   "cell_type": "code",
   "execution_count": 2,
   "id": "59d39d6b",
   "metadata": {},
   "outputs": [],
   "source": [
    "# simple comment"
   ]
  },
  {
   "cell_type": "code",
   "execution_count": 3,
   "id": "65dbd3b8",
   "metadata": {},
   "outputs": [
    {
     "name": "stdout",
     "output_type": "stream",
     "text": [
      "this comment\n"
     ]
    }
   ],
   "source": [
    "print('this comment') # this comment"
   ]
  },
  {
   "cell_type": "code",
   "execution_count": null,
   "id": "98cee764",
   "metadata": {},
   "outputs": [],
   "source": []
  }
 ],
 "metadata": {
  "kernelspec": {
   "display_name": "Python 3 (ipykernel)",
   "language": "python",
   "name": "python3"
  },
  "language_info": {
   "codemirror_mode": {
    "name": "ipython",
    "version": 3
   },
   "file_extension": ".py",
   "mimetype": "text/x-python",
   "name": "python",
   "nbconvert_exporter": "python",
   "pygments_lexer": "ipython3",
   "version": "3.9.7"
  }
 },
 "nbformat": 4,
 "nbformat_minor": 5
}
