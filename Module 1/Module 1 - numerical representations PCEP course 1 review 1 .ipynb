{
 "cells": [
  {
   "cell_type": "code",
   "execution_count": 2,
   "id": "c8fcdce9",
   "metadata": {},
   "outputs": [
    {
     "data": {
      "text/plain": [
       "True"
      ]
     },
     "execution_count": 2,
     "metadata": {},
     "output_type": "execute_result"
    }
   ],
   "source": [
    "# undesrcores in numbers\n",
    "\n",
    "12000300 == 12_000_300"
   ]
  },
  {
   "cell_type": "code",
   "execution_count": 3,
   "id": "334ea878",
   "metadata": {},
   "outputs": [],
   "source": [
    "# scientific notation\n",
    "# 3e4 = 3E4 = 3 * 100000 = 30000\n",
    "# 3e-4 = 3E-4 = 3 * 1/10000 = 0.0003"
   ]
  },
  {
   "cell_type": "code",
   "execution_count": 4,
   "id": "886caedc",
   "metadata": {},
   "outputs": [
    {
     "name": "stdout",
     "output_type": "stream",
     "text": [
      "3e-26\n"
     ]
    }
   ],
   "source": [
    "print(0.00000000000000000000000003)"
   ]
  },
  {
   "cell_type": "code",
   "execution_count": 5,
   "id": "f7b08eaf",
   "metadata": {},
   "outputs": [],
   "source": [
    "# octal numbers"
   ]
  },
  {
   "cell_type": "code",
   "execution_count": 6,
   "id": "d21fdae7",
   "metadata": {},
   "outputs": [
    {
     "name": "stdout",
     "output_type": "stream",
     "text": [
      "83\n"
     ]
    }
   ],
   "source": [
    "print(0o123)"
   ]
  },
  {
   "cell_type": "code",
   "execution_count": 7,
   "id": "e439afbd",
   "metadata": {},
   "outputs": [
    {
     "name": "stdout",
     "output_type": "stream",
     "text": [
      "291\n"
     ]
    }
   ],
   "source": [
    "#hexaecimal\n",
    "print(0x123)"
   ]
  },
  {
   "cell_type": "code",
   "execution_count": null,
   "id": "ee323389",
   "metadata": {},
   "outputs": [],
   "source": []
  }
 ],
 "metadata": {
  "kernelspec": {
   "display_name": "Python 3 (ipykernel)",
   "language": "python",
   "name": "python3"
  },
  "language_info": {
   "codemirror_mode": {
    "name": "ipython",
    "version": 3
   },
   "file_extension": ".py",
   "mimetype": "text/x-python",
   "name": "python",
   "nbconvert_exporter": "python",
   "pygments_lexer": "ipython3",
   "version": "3.9.7"
  }
 },
 "nbformat": 4,
 "nbformat_minor": 5
}
