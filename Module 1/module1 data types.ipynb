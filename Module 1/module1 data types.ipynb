{
 "cells": [
  {
   "cell_type": "code",
   "execution_count": 2,
   "id": "7ebf434f",
   "metadata": {},
   "outputs": [],
   "source": [
    "greeting = 'Hello'\n"
   ]
  },
  {
   "cell_type": "code",
   "execution_count": 3,
   "id": "b3b5bec3",
   "metadata": {},
   "outputs": [
    {
     "data": {
      "text/plain": [
       "4.0"
      ]
     },
     "execution_count": 3,
     "metadata": {},
     "output_type": "execute_result"
    }
   ],
   "source": [
    "4.\n"
   ]
  },
  {
   "cell_type": "code",
   "execution_count": 4,
   "id": "81f84a16",
   "metadata": {},
   "outputs": [],
   "source": [
    "age = 35"
   ]
  },
  {
   "cell_type": "code",
   "execution_count": 5,
   "id": "620e00dd",
   "metadata": {},
   "outputs": [],
   "source": [
    "height = 183.5"
   ]
  },
  {
   "cell_type": "code",
   "execution_count": 14,
   "id": "2ad1c67c",
   "metadata": {},
   "outputs": [],
   "source": [
    "dict1 = {\"fuck\": \"a bug\", \"Buck\" :\" a fug\"}"
   ]
  },
  {
   "cell_type": "code",
   "execution_count": 19,
   "id": "1c52c048",
   "metadata": {},
   "outputs": [
    {
     "name": "stdout",
     "output_type": "stream",
     "text": [
      "a buga buga bug\n"
     ]
    }
   ],
   "source": [
    "print (dict1[\"fuck\"]*3)"
   ]
  },
  {
   "cell_type": "code",
   "execution_count": 17,
   "id": "ff113d20",
   "metadata": {},
   "outputs": [
    {
     "ename": "TypeError",
     "evalue": "'dict' object is not callable",
     "output_type": "error",
     "traceback": [
      "\u001b[1;31m---------------------------------------------------------------------------\u001b[0m",
      "\u001b[1;31mTypeError\u001b[0m                                 Traceback (most recent call last)",
      "\u001b[1;32m~\\AppData\\Local\\Temp/ipykernel_34260/545742762.py\u001b[0m in \u001b[0;36m<module>\u001b[1;34m\u001b[0m\n\u001b[1;32m----> 1\u001b[1;33m \u001b[0mdict1\u001b[0m\u001b[1;33m(\u001b[0m\u001b[1;34m\"fuck\"\u001b[0m\u001b[1;33m)\u001b[0m\u001b[1;33m\u001b[0m\u001b[1;33m\u001b[0m\u001b[0m\n\u001b[0m",
      "\u001b[1;31mTypeError\u001b[0m: 'dict' object is not callable"
     ]
    }
   ],
   "source": [
    "dict1(\"fuck\")"
   ]
  },
  {
   "cell_type": "code",
   "execution_count": 4,
   "id": "0a6b2174",
   "metadata": {},
   "outputs": [
    {
     "name": "stdout",
     "output_type": "stream",
     "text": [
      "Owoc\n"
     ]
    }
   ],
   "source": [
    "owoc = True\n",
    "if owoc :\n",
    "    print(\"Owoc\")"
   ]
  }
 ],
 "metadata": {
  "kernelspec": {
   "display_name": "Python 3 (ipykernel)",
   "language": "python",
   "name": "python3"
  },
  "language_info": {
   "codemirror_mode": {
    "name": "ipython",
    "version": 3
   },
   "file_extension": ".py",
   "mimetype": "text/x-python",
   "name": "python",
   "nbconvert_exporter": "python",
   "pygments_lexer": "ipython3",
   "version": "3.9.7"
  }
 },
 "nbformat": 4,
 "nbformat_minor": 5
}
