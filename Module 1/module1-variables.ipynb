{
 "cells": [
  {
   "cell_type": "code",
   "execution_count": 3,
   "id": "678ab71d",
   "metadata": {},
   "outputs": [
    {
     "name": "stdout",
     "output_type": "stream",
     "text": [
      "Hello,Friend!\n",
      "Hi,Everybody!\n"
     ]
    }
   ],
   "source": [
    "greeting = 'Hello,Friend!'\n",
    "print (greeting)\n",
    "greeting = 'Hi,Everybody!'\n",
    "print(greeting)"
   ]
  },
  {
   "cell_type": "code",
   "execution_count": 4,
   "id": "4ca7bbfd",
   "metadata": {},
   "outputs": [
    {
     "ename": "SyntaxError",
     "evalue": "invalid syntax (Temp/ipykernel_26048/4125673189.py, line 4)",
     "output_type": "error",
     "traceback": [
      "\u001b[1;36m  File \u001b[1;32m\"C:\\Users\\Nouser\\AppData\\Local\\Temp/ipykernel_26048/4125673189.py\"\u001b[1;36m, line \u001b[1;32m4\u001b[0m\n\u001b[1;33m    89incorrectVarName\u001b[0m\n\u001b[1;37m      ^\u001b[0m\n\u001b[1;31mSyntaxError\u001b[0m\u001b[1;31m:\u001b[0m invalid syntax\n"
     ]
    }
   ],
   "source": [
    "_correct_var_name\n",
    "correctVarName\n",
    "CorrectVarName\n",
    "89incorrectVarName\n",
    "greeting!=Greeting"
   ]
  },
  {
   "cell_type": "code",
   "execution_count": null,
   "id": "7bf183a5",
   "metadata": {},
   "outputs": [],
   "source": []
  }
 ],
 "metadata": {
  "kernelspec": {
   "display_name": "Python 3 (ipykernel)",
   "language": "python",
   "name": "python3"
  },
  "language_info": {
   "codemirror_mode": {
    "name": "ipython",
    "version": 3
   },
   "file_extension": ".py",
   "mimetype": "text/x-python",
   "name": "python",
   "nbconvert_exporter": "python",
   "pygments_lexer": "ipython3",
   "version": "3.9.7"
  }
 },
 "nbformat": 4,
 "nbformat_minor": 5
}
