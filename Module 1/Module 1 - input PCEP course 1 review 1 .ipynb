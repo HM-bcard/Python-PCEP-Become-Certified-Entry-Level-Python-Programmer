{
 "cells": [
  {
   "cell_type": "code",
   "execution_count": 1,
   "id": "4749871a",
   "metadata": {},
   "outputs": [
    {
     "name": "stdout",
     "output_type": "stream",
     "text": [
      "What is your name?\n"
     ]
    }
   ],
   "source": [
    "print('What is your name?')"
   ]
  },
  {
   "cell_type": "code",
   "execution_count": 2,
   "id": "1e1ad48a",
   "metadata": {},
   "outputs": [
    {
     "ename": "NameError",
     "evalue": "name 'user_name' is not defined",
     "output_type": "error",
     "traceback": [
      "\u001b[1;31m---------------------------------------------------------------------------\u001b[0m",
      "\u001b[1;31mNameError\u001b[0m                                 Traceback (most recent call last)",
      "\u001b[1;32m~\\AppData\\Local\\Temp/ipykernel_13528/2614960064.py\u001b[0m in \u001b[0;36m<module>\u001b[1;34m\u001b[0m\n\u001b[1;32m----> 1\u001b[1;33m \u001b[0muser_name\u001b[0m \u001b[1;33m-\u001b[0m \u001b[0minput\u001b[0m\u001b[1;33m(\u001b[0m\u001b[1;33m)\u001b[0m\u001b[1;33m\u001b[0m\u001b[1;33m\u001b[0m\u001b[0m\n\u001b[0m",
      "\u001b[1;31mNameError\u001b[0m: name 'user_name' is not defined"
     ]
    }
   ],
   "source": [
    "user_name = input()"
   ]
  },
  {
   "cell_type": "code",
   "execution_count": 4,
   "id": "46712d23",
   "metadata": {},
   "outputs": [
    {
     "ename": "SyntaxError",
     "evalue": "invalid syntax (Temp/ipykernel_13528/1428090924.py, line 1)",
     "output_type": "error",
     "traceback": [
      "\u001b[1;36m  File \u001b[1;32m\"C:\\Users\\Nouser\\AppData\\Local\\Temp/ipykernel_13528/1428090924.py\"\u001b[1;36m, line \u001b[1;32m1\u001b[0m\n\u001b[1;33m    user_name = input() print('Hello', user_name)\u001b[0m\n\u001b[1;37m                        ^\u001b[0m\n\u001b[1;31mSyntaxError\u001b[0m\u001b[1;31m:\u001b[0m invalid syntax\n"
     ]
    }
   ],
   "source": [
    "user_name = input() print('Hello', user_name)"
   ]
  },
  {
   "cell_type": "code",
   "execution_count": 6,
   "id": "1d758d52",
   "metadata": {},
   "outputs": [
    {
     "name": "stdout",
     "output_type": "stream",
     "text": [
      "nahh\n",
      "Hello, nahh\n"
     ]
    }
   ],
   "source": [
    "user_name = input() \n",
    "print('Hello,', user_name)"
   ]
  },
  {
   "cell_type": "code",
   "execution_count": null,
   "id": "485c40f8",
   "metadata": {},
   "outputs": [],
   "source": [
    "number = "
   ]
  }
 ],
 "metadata": {
  "kernelspec": {
   "display_name": "Python 3 (ipykernel)",
   "language": "python",
   "name": "python3"
  },
  "language_info": {
   "codemirror_mode": {
    "name": "ipython",
    "version": 3
   },
   "file_extension": ".py",
   "mimetype": "text/x-python",
   "name": "python",
   "nbconvert_exporter": "python",
   "pygments_lexer": "ipython3",
   "version": "3.9.7"
  }
 },
 "nbformat": 4,
 "nbformat_minor": 5
}
