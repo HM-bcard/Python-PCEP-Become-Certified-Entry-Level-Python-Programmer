{
 "cells": [
  {
   "cell_type": "code",
   "execution_count": 1,
   "id": "1dc1c65d",
   "metadata": {},
   "outputs": [],
   "source": [
    "greeting = 'Hello,Friend'"
   ]
  },
  {
   "cell_type": "code",
   "execution_count": 2,
   "id": "f79f3b5c",
   "metadata": {},
   "outputs": [],
   "source": [
    "age = 35"
   ]
  },
  {
   "cell_type": "code",
   "execution_count": 3,
   "id": "2b84e3a9",
   "metadata": {},
   "outputs": [],
   "source": [
    "age_str = '35'"
   ]
  },
  {
   "cell_type": "code",
   "execution_count": 4,
   "id": "b8173263",
   "metadata": {},
   "outputs": [],
   "source": [
    "speed1 = 4.0"
   ]
  },
  {
   "cell_type": "code",
   "execution_count": 5,
   "id": "ae936aab",
   "metadata": {},
   "outputs": [
    {
     "ename": "NameError",
     "evalue": "name 'speed' is not defined",
     "output_type": "error",
     "traceback": [
      "\u001b[1;31m---------------------------------------------------------------------------\u001b[0m",
      "\u001b[1;31mNameError\u001b[0m                                 Traceback (most recent call last)",
      "\u001b[1;32m~\\AppData\\Local\\Temp/ipykernel_16808/3577557775.py\u001b[0m in \u001b[0;36m<module>\u001b[1;34m\u001b[0m\n\u001b[1;32m----> 1\u001b[1;33m \u001b[0mprint\u001b[0m\u001b[1;33m(\u001b[0m\u001b[0mage\u001b[0m\u001b[1;33m*\u001b[0m\u001b[0mspeed\u001b[0m\u001b[1;33m)\u001b[0m\u001b[1;33m\u001b[0m\u001b[1;33m\u001b[0m\u001b[0m\n\u001b[0m",
      "\u001b[1;31mNameError\u001b[0m: name 'speed' is not defined"
     ]
    }
   ],
   "source": [
    "print(age*speed)"
   ]
  },
  {
   "cell_type": "code",
   "execution_count": 6,
   "id": "e0b4ea0e",
   "metadata": {},
   "outputs": [
    {
     "name": "stdout",
     "output_type": "stream",
     "text": [
      "140.0\n"
     ]
    }
   ],
   "source": [
    "print(age*speed1)"
   ]
  },
  {
   "cell_type": "code",
   "execution_count": 7,
   "id": "88b4ed19",
   "metadata": {},
   "outputs": [],
   "source": [
    "am_i_ugly = False"
   ]
  },
  {
   "cell_type": "code",
   "execution_count": 8,
   "id": "1fba6b04",
   "metadata": {},
   "outputs": [
    {
     "name": "stdout",
     "output_type": "stream",
     "text": [
      "False\n"
     ]
    }
   ],
   "source": [
    "print(am_i_ugly)"
   ]
  },
  {
   "cell_type": "code",
   "execution_count": null,
   "id": "3bcc5c88",
   "metadata": {},
   "outputs": [],
   "source": []
  }
 ],
 "metadata": {
  "kernelspec": {
   "display_name": "Python 3 (ipykernel)",
   "language": "python",
   "name": "python3"
  },
  "language_info": {
   "codemirror_mode": {
    "name": "ipython",
    "version": 3
   },
   "file_extension": ".py",
   "mimetype": "text/x-python",
   "name": "python",
   "nbconvert_exporter": "python",
   "pygments_lexer": "ipython3",
   "version": "3.9.7"
  }
 },
 "nbformat": 4,
 "nbformat_minor": 5
}
