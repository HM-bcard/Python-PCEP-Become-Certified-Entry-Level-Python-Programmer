{
 "cells": [
  {
   "cell_type": "code",
   "execution_count": 2,
   "id": "a3f9b69d",
   "metadata": {},
   "outputs": [],
   "source": [
    "#here is an all-line comment"
   ]
  },
  {
   "cell_type": "code",
   "execution_count": 3,
   "id": "53cce8fa",
   "metadata": {},
   "outputs": [],
   "source": [
    "#note that the variables are strings, not numbers!\n",
    "var1 = '23'\n",
    "var2 = '54'"
   ]
  },
  {
   "cell_type": "code",
   "execution_count": 1,
   "id": "bd76b199",
   "metadata": {},
   "outputs": [
    {
     "name": "stdout",
     "output_type": "stream",
     "text": [
      "sample\n"
     ]
    }
   ],
   "source": [
    "print('sample')#this is a mid-line comment"
   ]
  },
  {
   "cell_type": "code",
   "execution_count": 4,
   "id": "14eefa25",
   "metadata": {},
   "outputs": [
    {
     "name": "stdout",
     "output_type": "stream",
     "text": [
      "hello\n"
     ]
    }
   ],
   "source": [
    "print('hello')\n",
    "#print('hidden message')"
   ]
  },
  {
   "cell_type": "code",
   "execution_count": null,
   "id": "eeb5a280",
   "metadata": {},
   "outputs": [],
   "source": []
  }
 ],
 "metadata": {
  "kernelspec": {
   "display_name": "Python 3 (ipykernel)",
   "language": "python",
   "name": "python3"
  },
  "language_info": {
   "codemirror_mode": {
    "name": "ipython",
    "version": 3
   },
   "file_extension": ".py",
   "mimetype": "text/x-python",
   "name": "python",
   "nbconvert_exporter": "python",
   "pygments_lexer": "ipython3",
   "version": "3.9.7"
  }
 },
 "nbformat": 4,
 "nbformat_minor": 5
}
