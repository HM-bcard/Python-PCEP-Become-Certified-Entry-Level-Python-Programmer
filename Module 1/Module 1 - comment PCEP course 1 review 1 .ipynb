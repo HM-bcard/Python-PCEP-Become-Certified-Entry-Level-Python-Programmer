{
 "cells": [
  {
   "cell_type": "code",
   "execution_count": 1,
   "id": "a143432d",
   "metadata": {},
   "outputs": [
    {
     "name": "stdout",
     "output_type": "stream",
     "text": [
      "sample\n"
     ]
    }
   ],
   "source": [
    "print('sample') #here is a mid-line comment"
   ]
  },
  {
   "cell_type": "code",
   "execution_count": 2,
   "id": "5b4bdb8d",
   "metadata": {},
   "outputs": [],
   "source": [
    "# here is an all-line comment"
   ]
  },
  {
   "cell_type": "code",
   "execution_count": 3,
   "id": "23dfd28b",
   "metadata": {},
   "outputs": [],
   "source": [
    "# note that"
   ]
  },
  {
   "cell_type": "code",
   "execution_count": null,
   "id": "4e3bb0ff",
   "metadata": {},
   "outputs": [],
   "source": []
  }
 ],
 "metadata": {
  "kernelspec": {
   "display_name": "Python 3 (ipykernel)",
   "language": "python",
   "name": "python3"
  },
  "language_info": {
   "codemirror_mode": {
    "name": "ipython",
    "version": 3
   },
   "file_extension": ".py",
   "mimetype": "text/x-python",
   "name": "python",
   "nbconvert_exporter": "python",
   "pygments_lexer": "ipython3",
   "version": "3.9.7"
  }
 },
 "nbformat": 4,
 "nbformat_minor": 5
}
