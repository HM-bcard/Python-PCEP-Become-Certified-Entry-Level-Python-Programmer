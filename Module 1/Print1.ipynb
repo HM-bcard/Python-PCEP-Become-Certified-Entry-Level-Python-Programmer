{
 "cells": [
  {
   "cell_type": "code",
   "execution_count": 1,
   "id": "0f04d4a4",
   "metadata": {},
   "outputs": [
    {
     "name": "stdout",
     "output_type": "stream",
     "text": [
      "Badger badger badger\n"
     ]
    }
   ],
   "source": [
    "print('Badger badger badger')"
   ]
  },
  {
   "cell_type": "code",
   "execution_count": 3,
   "id": "460ead7f",
   "metadata": {},
   "outputs": [
    {
     "name": "stdout",
     "output_type": "stream",
     "text": [
      "Badger \n"
     ]
    },
    {
     "ename": "TypeError",
     "evalue": "unsupported operand type(s) for *: 'NoneType' and 'int'",
     "output_type": "error",
     "traceback": [
      "\u001b[1;31m---------------------------------------------------------------------------\u001b[0m",
      "\u001b[1;31mTypeError\u001b[0m                                 Traceback (most recent call last)",
      "\u001b[1;32m~\\AppData\\Local\\Temp/ipykernel_25828/152601736.py\u001b[0m in \u001b[0;36m<module>\u001b[1;34m\u001b[0m\n\u001b[1;32m----> 1\u001b[1;33m \u001b[0mprint\u001b[0m\u001b[1;33m(\u001b[0m\u001b[1;34m'Badger '\u001b[0m\u001b[1;33m)\u001b[0m\u001b[1;33m*\u001b[0m\u001b[1;36m100\u001b[0m\u001b[1;33m\u001b[0m\u001b[1;33m\u001b[0m\u001b[0m\n\u001b[0m",
      "\u001b[1;31mTypeError\u001b[0m: unsupported operand type(s) for *: 'NoneType' and 'int'"
     ]
    }
   ],
   "source": [
    "print('Badger ')*100"
   ]
  },
  {
   "cell_type": "code",
   "execution_count": 4,
   "id": "fdde5d35",
   "metadata": {},
   "outputs": [
    {
     "name": "stdout",
     "output_type": "stream",
     "text": [
      "Badger\n",
      "Badger\n",
      "Badger\n",
      "Badger\n",
      "Badger\n",
      "Badger\n",
      "Badger\n",
      "Badger\n",
      "Badger\n",
      "Badger\n",
      "Badger\n",
      "Badger\n",
      "Badger\n",
      "Badger\n",
      "Badger\n",
      "Badger\n",
      "Badger\n",
      "Badger\n",
      "Badger\n",
      "Badger\n",
      "Badger\n",
      "Badger\n",
      "Badger\n",
      "Badger\n",
      "Badger\n",
      "Badger\n",
      "Badger\n",
      "Badger\n",
      "Badger\n",
      "Badger\n",
      "Badger\n",
      "Badger\n",
      "Badger\n",
      "Badger\n",
      "Badger\n",
      "Badger\n",
      "Badger\n",
      "Badger\n",
      "Badger\n",
      "Badger\n",
      "Badger\n",
      "Badger\n",
      "Badger\n",
      "Badger\n",
      "Badger\n",
      "Badger\n",
      "Badger\n",
      "Badger\n",
      "Badger\n",
      "Badger\n",
      "Badger\n",
      "Badger\n",
      "Badger\n",
      "Badger\n",
      "Badger\n",
      "Badger\n",
      "Badger\n",
      "Badger\n",
      "Badger\n",
      "Badger\n",
      "Badger\n",
      "Badger\n",
      "Badger\n",
      "Badger\n",
      "Badger\n",
      "Badger\n",
      "Badger\n",
      "Badger\n",
      "Badger\n",
      "Badger\n",
      "Badger\n",
      "Badger\n",
      "Badger\n",
      "Badger\n",
      "Badger\n",
      "Badger\n",
      "Badger\n",
      "Badger\n",
      "Badger\n",
      "Badger\n",
      "Badger\n",
      "Badger\n",
      "Badger\n",
      "Badger\n",
      "Badger\n",
      "Badger\n",
      "Badger\n",
      "Badger\n",
      "Badger\n",
      "Badger\n",
      "Badger\n",
      "Badger\n",
      "Badger\n",
      "Badger\n",
      "Badger\n",
      "Badger\n",
      "Badger\n",
      "Badger\n",
      "Badger\n",
      "Badger\n"
     ]
    }
   ],
   "source": [
    "for i in range (100):\n",
    "    print('Badger')"
   ]
  },
  {
   "cell_type": "code",
   "execution_count": null,
   "id": "e4827cd5",
   "metadata": {},
   "outputs": [],
   "source": []
  }
 ],
 "metadata": {
  "kernelspec": {
   "display_name": "Python 3 (ipykernel)",
   "language": "python",
   "name": "python3"
  },
  "language_info": {
   "codemirror_mode": {
    "name": "ipython",
    "version": 3
   },
   "file_extension": ".py",
   "mimetype": "text/x-python",
   "name": "python",
   "nbconvert_exporter": "python",
   "pygments_lexer": "ipython3",
   "version": "3.9.7"
  }
 },
 "nbformat": 4,
 "nbformat_minor": 5
}
