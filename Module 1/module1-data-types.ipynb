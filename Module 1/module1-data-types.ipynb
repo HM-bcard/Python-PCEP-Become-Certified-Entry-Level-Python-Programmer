{
 "cells": [
  {
   "cell_type": "code",
   "execution_count": 1,
   "id": "5b9c16c0",
   "metadata": {},
   "outputs": [],
   "source": [
    "greeting = 'Hello, Friend!' #string"
   ]
  },
  {
   "cell_type": "code",
   "execution_count": 2,
   "id": "fe7c5adb",
   "metadata": {},
   "outputs": [],
   "source": [
    "age = 35 #integer"
   ]
  },
  {
   "cell_type": "code",
   "execution_count": 3,
   "id": "efb4668a",
   "metadata": {},
   "outputs": [],
   "source": [
    "speed1 = 4.5   #float\n",
    "speed2 = 4.0   #float\n",
    "speed3 = 4.    #float\n",
    "speed4 = 4"
   ]
  },
  {
   "cell_type": "code",
   "execution_count": 4,
   "id": "a75ebc92",
   "metadata": {},
   "outputs": [],
   "source": [
    "am_I_ugly = True"
   ]
  },
  {
   "cell_type": "code",
   "execution_count": 5,
   "id": "dc74a195",
   "metadata": {},
   "outputs": [],
   "source": [
    "am_i_ugly = False"
   ]
  },
  {
   "cell_type": "code",
   "execution_count": null,
   "id": "2847823b",
   "metadata": {},
   "outputs": [],
   "source": []
  }
 ],
 "metadata": {
  "kernelspec": {
   "display_name": "Python 3 (ipykernel)",
   "language": "python",
   "name": "python3"
  },
  "language_info": {
   "codemirror_mode": {
    "name": "ipython",
    "version": 3
   },
   "file_extension": ".py",
   "mimetype": "text/x-python",
   "name": "python",
   "nbconvert_exporter": "python",
   "pygments_lexer": "ipython3",
   "version": "3.9.7"
  }
 },
 "nbformat": 4,
 "nbformat_minor": 5
}
