{
 "cells": [
  {
   "cell_type": "code",
   "execution_count": 1,
   "id": "fb242d99",
   "metadata": {},
   "outputs": [
    {
     "data": {
      "text/plain": [
       "5"
      ]
     },
     "execution_count": 1,
     "metadata": {},
     "output_type": "execute_result"
    }
   ],
   "source": [
    "len('hello')"
   ]
  },
  {
   "cell_type": "code",
   "execution_count": 2,
   "id": "9e9e6e00",
   "metadata": {},
   "outputs": [
    {
     "name": "stdout",
     "output_type": "stream",
     "text": [
      "hello world&"
     ]
    }
   ],
   "source": [
    "print(\"hello world\", end = '&')"
   ]
  },
  {
   "cell_type": "code",
   "execution_count": 5,
   "id": "e218a629",
   "metadata": {},
   "outputs": [
    {
     "name": "stdout",
     "output_type": "stream",
     "text": [
      "Your first name is...Marquis...Welcome...here!!!"
     ]
    }
   ],
   "source": [
    "print('Your first name is', 'Marquis', 'Welcome', 'here', sep = '...', end = '!!!' )"
   ]
  },
  {
   "cell_type": "code",
   "execution_count": 6,
   "id": "9c4ba8a0",
   "metadata": {},
   "outputs": [],
   "source": [
    "# positional arguments have to be at the end of the function\n"
   ]
  },
  {
   "cell_type": "code",
   "execution_count": 7,
   "id": "58efcdc7",
   "metadata": {},
   "outputs": [
    {
     "ename": "SyntaxError",
     "evalue": "positional argument follows keyword argument (Temp/ipykernel_31704/1522438973.py, line 1)",
     "output_type": "error",
     "traceback": [
      "\u001b[1;36m  File \u001b[1;32m\"C:\\Users\\Nouser\\AppData\\Local\\Temp/ipykernel_31704/1522438973.py\"\u001b[1;36m, line \u001b[1;32m1\u001b[0m\n\u001b[1;33m    print( sep = '...', 'Not', 'this', 'time')\u001b[0m\n\u001b[1;37m                                             ^\u001b[0m\n\u001b[1;31mSyntaxError\u001b[0m\u001b[1;31m:\u001b[0m positional argument follows keyword argument\n"
     ]
    }
   ],
   "source": [
    "print( sep = '...', 'Not', 'this', 'time')"
   ]
  },
  {
   "cell_type": "code",
   "execution_count": null,
   "id": "72b6d5c2",
   "metadata": {},
   "outputs": [],
   "source": []
  }
 ],
 "metadata": {
  "kernelspec": {
   "display_name": "Python 3 (ipykernel)",
   "language": "python",
   "name": "python3"
  },
  "language_info": {
   "codemirror_mode": {
    "name": "ipython",
    "version": 3
   },
   "file_extension": ".py",
   "mimetype": "text/x-python",
   "name": "python",
   "nbconvert_exporter": "python",
   "pygments_lexer": "ipython3",
   "version": "3.9.7"
  }
 },
 "nbformat": 4,
 "nbformat_minor": 5
}
