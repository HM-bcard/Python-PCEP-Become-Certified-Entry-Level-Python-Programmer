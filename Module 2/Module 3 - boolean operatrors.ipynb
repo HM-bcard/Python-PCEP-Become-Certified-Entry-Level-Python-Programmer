{
 "cells": [
  {
   "cell_type": "code",
   "execution_count": 8,
   "id": "e3c4dcee",
   "metadata": {},
   "outputs": [
    {
     "name": "stdout",
     "output_type": "stream",
     "text": [
      "What is your age?24 \n",
      "What is your country?Poland\n",
      "You don't apply \n"
     ]
    }
   ],
   "source": [
    "user_age = int(input('What is your age?'))\n",
    "user_country = input('What is your country?')\n",
    "\n",
    "if user_age < 25 and user_country == 'Germany':\n",
    "    print('You apply for the student exchange programme')# use a backslash to continue the instruction on newline\n",
    "elif user_age < 27 and \\\n",
    "    user_country == 'Germany':\n",
    "    print('You kind of apply for the student exchange programme')\n",
    "else:\n",
    "    print('You don\\'t apply ')\n"
   ]
  },
  {
   "cell_type": "code",
   "execution_count": 9,
   "id": "a3879dcd",
   "metadata": {},
   "outputs": [],
   "source": [
    "# oreder of boolean operators: not -> and -> or"
   ]
  },
  {
   "cell_type": "code",
   "execution_count": null,
   "id": "2b5ba73c",
   "metadata": {},
   "outputs": [],
   "source": []
  }
 ],
 "metadata": {
  "kernelspec": {
   "display_name": "Python 3 (ipykernel)",
   "language": "python",
   "name": "python3"
  },
  "language_info": {
   "codemirror_mode": {
    "name": "ipython",
    "version": 3
   },
   "file_extension": ".py",
   "mimetype": "text/x-python",
   "name": "python",
   "nbconvert_exporter": "python",
   "pygments_lexer": "ipython3",
   "version": "3.9.7"
  }
 },
 "nbformat": 4,
 "nbformat_minor": 5
}
