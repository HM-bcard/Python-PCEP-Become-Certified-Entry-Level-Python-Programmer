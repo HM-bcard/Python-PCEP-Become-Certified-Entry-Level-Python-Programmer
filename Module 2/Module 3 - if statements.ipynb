{
 "cells": [
  {
   "cell_type": "code",
   "execution_count": 2,
   "id": "27e2460c",
   "metadata": {},
   "outputs": [
    {
     "name": "stdout",
     "output_type": "stream",
     "text": [
      "What's your age?31\n",
      "You are over 30 years old\n"
     ]
    }
   ],
   "source": [
    "user_age = int(input('What\\'s your age?'))\n",
    "if user_age > 30:\n",
    "    print('You are over 30 years old')"
   ]
  },
  {
   "cell_type": "code",
   "execution_count": 13,
   "id": "c26250f9",
   "metadata": {},
   "outputs": [
    {
     "name": "stdout",
     "output_type": "stream",
     "text": [
      "What's your age?-1\n",
      "Swan\n",
      "You're a Swan now...\n"
     ]
    }
   ],
   "source": [
    "user_age = int(input('What\\'s your age?'))\n",
    "if user_age > 30:\n",
    "    print('You are over 30 years old')\n",
    "elif user_age > 0 and user_age < 30 :\n",
    "    print('Zero to thirty')\n",
    "else:\n",
    "    print('Swan')\n",
    "    print(\"You're a Swan now...\") # multiple "
   ]
  },
  {
   "cell_type": "code",
   "execution_count": null,
   "id": "045106f5",
   "metadata": {},
   "outputs": [],
   "source": []
  },
  {
   "cell_type": "code",
   "execution_count": null,
   "id": "b22fad72",
   "metadata": {},
   "outputs": [],
   "source": []
  }
 ],
 "metadata": {
  "kernelspec": {
   "display_name": "Python 3 (ipykernel)",
   "language": "python",
   "name": "python3"
  },
  "language_info": {
   "codemirror_mode": {
    "name": "ipython",
    "version": 3
   },
   "file_extension": ".py",
   "mimetype": "text/x-python",
   "name": "python",
   "nbconvert_exporter": "python",
   "pygments_lexer": "ipython3",
   "version": "3.9.7"
  }
 },
 "nbformat": 4,
 "nbformat_minor": 5
}
