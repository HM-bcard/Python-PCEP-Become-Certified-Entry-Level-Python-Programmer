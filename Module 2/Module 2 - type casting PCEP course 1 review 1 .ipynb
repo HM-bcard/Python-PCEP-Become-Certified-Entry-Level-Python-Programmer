{
 "cells": [
  {
   "cell_type": "code",
   "execution_count": 1,
   "id": "48551fa5",
   "metadata": {},
   "outputs": [
    {
     "name": "stdout",
     "output_type": "stream",
     "text": [
      "Height converter: enter your height in cm: 1\n",
      "Your height in feet is: 0.03280839895013123\n"
     ]
    }
   ],
   "source": [
    "height_cm = input('Height converter: enter your height in cm: ')\n",
    "float_height_cm = float(height_cm)\n",
    "print('Your height in feet is:', float_height_cm / 30.48)"
   ]
  },
  {
   "cell_type": "code",
   "execution_count": 2,
   "id": "1fc7b080",
   "metadata": {},
   "outputs": [
    {
     "name": "stdout",
     "output_type": "stream",
     "text": [
      "Height converter: enter your height in cm: 2\n",
      "\n"
     ]
    }
   ],
   "source": [
    "height_cm: float(input('Height converter: enter your height in cm: '))\n",
    "print('')"
   ]
  },
  {
   "cell_type": "code",
   "execution_count": 4,
   "id": "38303d0c",
   "metadata": {},
   "outputs": [
    {
     "name": "stdout",
     "output_type": "stream",
     "text": [
      "What year were you born in?1\n",
      "In 2100,you will be 2099 years old.\n"
     ]
    }
   ],
   "source": [
    "year_born = int(input('What year were you born in?'))\n",
    "print('In 2100,you will be', 2100 -year_born, 'years old.')"
   ]
  },
  {
   "cell_type": "code",
   "execution_count": null,
   "id": "e3d84e80",
   "metadata": {},
   "outputs": [],
   "source": [
    "temp_c = input('')"
   ]
  }
 ],
 "metadata": {
  "kernelspec": {
   "display_name": "Python 3 (ipykernel)",
   "language": "python",
   "name": "python3"
  },
  "language_info": {
   "codemirror_mode": {
    "name": "ipython",
    "version": 3
   },
   "file_extension": ".py",
   "mimetype": "text/x-python",
   "name": "python",
   "nbconvert_exporter": "python",
   "pygments_lexer": "ipython3",
   "version": "3.9.7"
  }
 },
 "nbformat": 4,
 "nbformat_minor": 5
}
