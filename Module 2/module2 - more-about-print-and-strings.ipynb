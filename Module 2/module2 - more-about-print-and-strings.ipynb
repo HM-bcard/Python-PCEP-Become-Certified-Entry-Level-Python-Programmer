{
 "cells": [
  {
   "cell_type": "code",
   "execution_count": 1,
   "id": "49ce264d",
   "metadata": {},
   "outputs": [
    {
     "ename": "NameError",
     "evalue": "name 'string' is not defined",
     "output_type": "error",
     "traceback": [
      "\u001b[1;31m---------------------------------------------------------------------------\u001b[0m",
      "\u001b[1;31mNameError\u001b[0m                                 Traceback (most recent call last)",
      "\u001b[1;32m~\\AppData\\Local\\Temp/ipykernel_35040/2117980298.py\u001b[0m in \u001b[0;36m<module>\u001b[1;34m\u001b[0m\n\u001b[1;32m----> 1\u001b[1;33m \u001b[0mlen\u001b[0m\u001b[1;33m(\u001b[0m\u001b[0mstring\u001b[0m\u001b[1;33m)\u001b[0m\u001b[1;33m\u001b[0m\u001b[1;33m\u001b[0m\u001b[0m\n\u001b[0m",
      "\u001b[1;31mNameError\u001b[0m: name 'string' is not defined"
     ]
    }
   ],
   "source": [
    "len(string)"
   ]
  },
  {
   "cell_type": "code",
   "execution_count": 2,
   "id": "60c7de2e",
   "metadata": {},
   "outputs": [
    {
     "data": {
      "text/plain": [
       "6"
      ]
     },
     "execution_count": 2,
     "metadata": {},
     "output_type": "execute_result"
    }
   ],
   "source": [
    "len('Hello!')"
   ]
  },
  {
   "cell_type": "code",
   "execution_count": 3,
   "id": "930ae373",
   "metadata": {},
   "outputs": [],
   "source": [
    "# keyword arguments/named arguments\n"
   ]
  },
  {
   "cell_type": "code",
   "execution_count": 4,
   "id": "8032ed7f",
   "metadata": {},
   "outputs": [
    {
     "name": "stdout",
     "output_type": "stream",
     "text": [
      "Hello, World!\n",
      "Python speaking!\n"
     ]
    }
   ],
   "source": [
    "print('Hello, World!')\n",
    "print('Python speaking!')"
   ]
  },
  {
   "cell_type": "code",
   "execution_count": 5,
   "id": "59415202",
   "metadata": {},
   "outputs": [
    {
     "name": "stdout",
     "output_type": "stream",
     "text": [
      "Hello,World!.Python speaking!."
     ]
    }
   ],
   "source": [
    "print('Hello,World!', end='.')\n",
    "print('Python speaking!', end='.')"
   ]
  },
  {
   "cell_type": "code",
   "execution_count": 6,
   "id": "694a9607",
   "metadata": {},
   "outputs": [],
   "source": [
    "#sep (separator)\n"
   ]
  },
  {
   "cell_type": "code",
   "execution_count": 7,
   "id": "5c67854e",
   "metadata": {},
   "outputs": [
    {
     "name": "stdout",
     "output_type": "stream",
     "text": [
      "Your first name is John Welcome!\n"
     ]
    }
   ],
   "source": [
    "first_name = 'John'\n",
    "print('Your first name is', first_name, 'Welcome!')"
   ]
  },
  {
   "cell_type": "code",
   "execution_count": 8,
   "id": "8f453d9f",
   "metadata": {},
   "outputs": [
    {
     "name": "stdout",
     "output_type": "stream",
     "text": [
      "Your first name is-John-Welcome!\n"
     ]
    }
   ],
   "source": [
    "first_name = 'John'\n",
    "print('Your first name is', first_name, 'Welcome!',sep='-')"
   ]
  },
  {
   "cell_type": "code",
   "execution_count": 9,
   "id": "c1aca49c",
   "metadata": {},
   "outputs": [
    {
     "name": "stdout",
     "output_type": "stream",
     "text": [
      "Your first name is-John-Welcome!="
     ]
    }
   ],
   "source": [
    "first_name = 'John'\n",
    "print('Your first name is', first_name, 'Welcome!',sep='-',end='=')"
   ]
  },
  {
   "cell_type": "code",
   "execution_count": null,
   "id": "81417ae6",
   "metadata": {},
   "outputs": [],
   "source": []
  }
 ],
 "metadata": {
  "kernelspec": {
   "display_name": "Python 3 (ipykernel)",
   "language": "python",
   "name": "python3"
  },
  "language_info": {
   "codemirror_mode": {
    "name": "ipython",
    "version": 3
   },
   "file_extension": ".py",
   "mimetype": "text/x-python",
   "name": "python",
   "nbconvert_exporter": "python",
   "pygments_lexer": "ipython3",
   "version": "3.9.7"
  }
 },
 "nbformat": 4,
 "nbformat_minor": 5
}
