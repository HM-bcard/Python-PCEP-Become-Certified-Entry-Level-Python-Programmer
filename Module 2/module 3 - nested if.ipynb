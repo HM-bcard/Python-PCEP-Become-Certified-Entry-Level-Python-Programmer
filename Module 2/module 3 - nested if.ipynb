{
 "cells": [
  {
   "cell_type": "code",
   "execution_count": null,
   "id": "cce0583a",
   "metadata": {},
   "outputs": [],
   "source": [
    "answer_a = input('Do you like travelling? y/n: ')\n",
    "if answer_ a == 'y':\n",
    "    "
   ]
  }
 ],
 "metadata": {
  "kernelspec": {
   "display_name": "Python 3 (ipykernel)",
   "language": "python",
   "name": "python3"
  },
  "language_info": {
   "codemirror_mode": {
    "name": "ipython",
    "version": 3
   },
   "file_extension": ".py",
   "mimetype": "text/x-python",
   "name": "python",
   "nbconvert_exporter": "python",
   "pygments_lexer": "ipython3",
   "version": "3.9.7"
  }
 },
 "nbformat": 4,
 "nbformat_minor": 5
}
