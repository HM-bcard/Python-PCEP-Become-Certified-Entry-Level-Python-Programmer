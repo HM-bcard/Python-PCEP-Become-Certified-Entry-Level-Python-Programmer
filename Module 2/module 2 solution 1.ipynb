{
 "cells": [
  {
   "cell_type": "code",
   "execution_count": 3,
   "id": "74103d45",
   "metadata": {},
   "outputs": [],
   "source": [
    "hours = input('How many hours did you work last month? ')\n",
    "rate = input('What is your hourly rate? ')\n",
    "print('Last month, you earned',float(hours)*float(rate),'dollars')"
   ]
  },
  {
   "cell_type": "code",
   "execution_count": null,
   "id": "58176573",
   "metadata": {},
   "outputs": [],
   "source": []
  }
 ],
 "metadata": {
  "kernelspec": {
   "display_name": "Python 3 (ipykernel)",
   "language": "python",
   "name": "python3"
  },
  "language_info": {
   "codemirror_mode": {
    "name": "ipython",
    "version": 3
   },
   "file_extension": ".py",
   "mimetype": "text/x-python",
   "name": "python",
   "nbconvert_exporter": "python",
   "pygments_lexer": "ipython3",
   "version": "3.9.7"
  }
 },
 "nbformat": 4,
 "nbformat_minor": 5
}
