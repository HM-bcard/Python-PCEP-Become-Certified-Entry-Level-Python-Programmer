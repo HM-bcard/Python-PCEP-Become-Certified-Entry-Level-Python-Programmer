{
 "cells": [
  {
   "cell_type": "code",
   "execution_count": null,
   "id": "45f44715",
   "metadata": {},
   "outputs": [],
   "source": [
    "& \n",
    "|\n",
    "~\n",
    "^\n",
    "<<\n",
    ">>\n",
    "\n",
    "\n",
    "\n",
    "\n",
    "\n",
    "\n",
    "\n",
    "ampersand(?)\n",
    "\n",
    "bar ( pipe)\n",
    "\n",
    "tilda\n",
    "\n",
    "\n",
    "carat\n",
    "\n",
    "left shift\n",
    "\n",
    "right shift\n"
   ]
  },
  {
   "cell_type": "code",
   "execution_count": 2,
   "id": "955935e6",
   "metadata": {},
   "outputs": [
    {
     "name": "stdout",
     "output_type": "stream",
     "text": [
      "0\n"
     ]
    }
   ],
   "source": [
    "first_bit = 1\n",
    "second_bit = 0\n",
    "\n",
    "# & - and\n",
    "\n",
    "print(first_bit & second_bit)"
   ]
  },
  {
   "cell_type": "code",
   "execution_count": 3,
   "id": "f13a7ca3",
   "metadata": {},
   "outputs": [
    {
     "name": "stdout",
     "output_type": "stream",
     "text": [
      "1\n"
     ]
    }
   ],
   "source": [
    "print(first_bit | second_bit)"
   ]
  },
  {
   "cell_type": "code",
   "execution_count": 5,
   "id": "f524c087",
   "metadata": {},
   "outputs": [
    {
     "name": "stdout",
     "output_type": "stream",
     "text": [
      "1\n"
     ]
    }
   ],
   "source": [
    "print(first_bit ^ second_bit)"
   ]
  },
  {
   "cell_type": "code",
   "execution_count": 6,
   "id": "d7218e64",
   "metadata": {},
   "outputs": [
    {
     "name": "stdout",
     "output_type": "stream",
     "text": [
      "-2\n"
     ]
    }
   ],
   "source": [
    "print(~first_bit)"
   ]
  },
  {
   "cell_type": "code",
   "execution_count": 7,
   "id": "72740e13",
   "metadata": {},
   "outputs": [
    {
     "name": "stdout",
     "output_type": "stream",
     "text": [
      "-1\n"
     ]
    }
   ],
   "source": [
    "print(~second_bit)"
   ]
  },
  {
   "cell_type": "code",
   "execution_count": 8,
   "id": "8d21e096",
   "metadata": {},
   "outputs": [
    {
     "data": {
      "text/plain": [
       "24"
      ]
     },
     "execution_count": 8,
     "metadata": {},
     "output_type": "execute_result"
    }
   ],
   "source": [
    "12<<1"
   ]
  },
  {
   "cell_type": "code",
   "execution_count": 9,
   "id": "721aa700",
   "metadata": {},
   "outputs": [
    {
     "data": {
      "text/plain": [
       "6"
      ]
     },
     "execution_count": 9,
     "metadata": {},
     "output_type": "execute_result"
    }
   ],
   "source": [
    "12>>1"
   ]
  },
  {
   "cell_type": "code",
   "execution_count": 10,
   "id": "db3555c3",
   "metadata": {},
   "outputs": [
    {
     "data": {
      "text/plain": [
       "0"
      ]
     },
     "execution_count": 10,
     "metadata": {},
     "output_type": "execute_result"
    }
   ],
   "source": [
    "12>>4"
   ]
  },
  {
   "cell_type": "code",
   "execution_count": 11,
   "id": "b8f3895b",
   "metadata": {},
   "outputs": [
    {
     "data": {
      "text/plain": [
       "192"
      ]
     },
     "execution_count": 11,
     "metadata": {},
     "output_type": "execute_result"
    }
   ],
   "source": [
    "12<<4"
   ]
  },
  {
   "cell_type": "code",
   "execution_count": null,
   "id": "a0ecf3c4",
   "metadata": {},
   "outputs": [],
   "source": []
  }
 ],
 "metadata": {
  "kernelspec": {
   "display_name": "Python 3 (ipykernel)",
   "language": "python",
   "name": "python3"
  },
  "language_info": {
   "codemirror_mode": {
    "name": "ipython",
    "version": 3
   },
   "file_extension": ".py",
   "mimetype": "text/x-python",
   "name": "python",
   "nbconvert_exporter": "python",
   "pygments_lexer": "ipython3",
   "version": "3.9.7"
  }
 },
 "nbformat": 4,
 "nbformat_minor": 5
}
