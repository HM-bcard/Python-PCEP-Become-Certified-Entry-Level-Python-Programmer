{
 "cells": [
  {
   "cell_type": "code",
   "execution_count": 1,
   "id": "c1be7e7c",
   "metadata": {},
   "outputs": [],
   "source": [
    "#escape characters"
   ]
  },
  {
   "cell_type": "code",
   "execution_count": 2,
   "id": "58d40cc6",
   "metadata": {},
   "outputs": [
    {
     "name": "stdout",
     "output_type": "stream",
     "text": [
      "I'm studying python\n"
     ]
    }
   ],
   "source": [
    "print('I\\'m studying python')"
   ]
  },
  {
   "cell_type": "code",
   "execution_count": 6,
   "id": "11ce88c3",
   "metadata": {},
   "outputs": [
    {
     "name": "stdout",
     "output_type": "stream",
     "text": [
      "One!\n",
      "Two!\n",
      "Three!\n",
      "Four!\n"
     ]
    }
   ],
   "source": [
    "print('One!')\n",
    "print('Two!')\n",
    "print('Three!\\nFour!')"
   ]
  },
  {
   "cell_type": "code",
   "execution_count": 7,
   "id": "5f5ce87c",
   "metadata": {},
   "outputs": [
    {
     "name": "stdout",
     "output_type": "stream",
     "text": [
      "Not the best'est practice\n"
     ]
    }
   ],
   "source": [
    "print(\"Not the best'est practice\")"
   ]
  },
  {
   "cell_type": "code",
   "execution_count": 8,
   "id": "7fcd6c2a",
   "metadata": {},
   "outputs": [
    {
     "ename": "NameError",
     "evalue": "name 'prnt' is not defined",
     "output_type": "error",
     "traceback": [
      "\u001b[1;31m---------------------------------------------------------------------------\u001b[0m",
      "\u001b[1;31mNameError\u001b[0m                                 Traceback (most recent call last)",
      "\u001b[1;32m~\\AppData\\Local\\Temp/ipykernel_5704/3334286909.py\u001b[0m in \u001b[0;36m<module>\u001b[1;34m\u001b[0m\n\u001b[1;32m----> 1\u001b[1;33m \u001b[0mprnt\u001b[0m\u001b[1;33m(\u001b[0m\u001b[1;34m'typo'\u001b[0m\u001b[1;33m)\u001b[0m\u001b[1;33m\u001b[0m\u001b[1;33m\u001b[0m\u001b[0m\n\u001b[0m",
      "\u001b[1;31mNameError\u001b[0m: name 'prnt' is not defined"
     ]
    }
   ],
   "source": [
    "prnt('typo')"
   ]
  },
  {
   "cell_type": "code",
   "execution_count": null,
   "id": "24e27c52",
   "metadata": {},
   "outputs": [],
   "source": []
  }
 ],
 "metadata": {
  "kernelspec": {
   "display_name": "Python 3 (ipykernel)",
   "language": "python",
   "name": "python3"
  },
  "language_info": {
   "codemirror_mode": {
    "name": "ipython",
    "version": 3
   },
   "file_extension": ".py",
   "mimetype": "text/x-python",
   "name": "python",
   "nbconvert_exporter": "python",
   "pygments_lexer": "ipython3",
   "version": "3.9.7"
  }
 },
 "nbformat": 4,
 "nbformat_minor": 5
}
