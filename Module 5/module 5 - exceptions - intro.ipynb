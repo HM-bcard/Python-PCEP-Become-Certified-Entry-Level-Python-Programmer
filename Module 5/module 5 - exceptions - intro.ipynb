{
 "cells": [
  {
   "cell_type": "code",
   "execution_count": 1,
   "id": "ea23d809",
   "metadata": {},
   "outputs": [
    {
     "ename": "IndentationError",
     "evalue": "expected an indented block (Temp/ipykernel_39072/394579496.py, line 2)",
     "output_type": "error",
     "traceback": [
      "\u001b[1;36m  File \u001b[1;32m\"C:\\Users\\Nouser\\AppData\\Local\\Temp/ipykernel_39072/394579496.py\"\u001b[1;36m, line \u001b[1;32m2\u001b[0m\n\u001b[1;33m    print('horray')\u001b[0m\n\u001b[1;37m    ^\u001b[0m\n\u001b[1;31mIndentationError\u001b[0m\u001b[1;31m:\u001b[0m expected an indented block\n"
     ]
    }
   ],
   "source": [
    "if True:\n",
    "print('horray')"
   ]
  },
  {
   "cell_type": "code",
   "execution_count": null,
   "id": "166ac78d",
   "metadata": {},
   "outputs": [],
   "source": [
    "value = int(input('Enter an integer: '))\n",
    "print('The inverse of', value, 'is', 1/value)"
   ]
  },
  {
   "cell_type": "code",
   "execution_count": null,
   "id": "e621ec86",
   "metadata": {},
   "outputs": [],
   "source": [
    "value = int(input('Enter an integer: '))\n",
    "print('The inverse of', value, 'is', 1/value)"
   ]
  },
  {
   "cell_type": "code",
   "execution_count": null,
   "id": "fb739c75",
   "metadata": {},
   "outputs": [],
   "source": [
    "# an exception is an event which occurs during the execution of a program that disupts the normal flow of the program instructions\n"
   ]
  },
  {
   "cell_type": "code",
   "execution_count": null,
   "id": "db03f0bb",
   "metadata": {},
   "outputs": [],
   "source": [
    "try:\n",
    "    value = int(input('Enter an integer: '))\n",
    "    print('The inverse of', value, 'is', 1/value)\n",
    "except:\n",
    "    print('You did not provide a number, so I will not calculate the inverse')"
   ]
  },
  {
   "cell_type": "code",
   "execution_count": null,
   "id": "520dda14",
   "metadata": {},
   "outputs": [],
   "source": [
    "try:\n",
    "    value = int(input('Enter an integer: '))\n",
    "    print('The inverse of', value, 'is', 1/value)\n",
    "except:\n",
    "    print('You did not provide a number, so I will not calculate the inverse')"
   ]
  },
  {
   "cell_type": "code",
   "execution_count": 1,
   "id": "02db0f2d",
   "metadata": {},
   "outputs": [
    {
     "name": "stdout",
     "output_type": "stream",
     "text": [
      "Enter an integer: 0\n"
     ]
    },
    {
     "ename": "ZeroDivisionError",
     "evalue": "division by zero",
     "output_type": "error",
     "traceback": [
      "\u001b[1;31m---------------------------------------------------------------------------\u001b[0m",
      "\u001b[1;31mZeroDivisionError\u001b[0m                         Traceback (most recent call last)",
      "\u001b[1;32m~\\AppData\\Local\\Temp/ipykernel_32648/1233092938.py\u001b[0m in \u001b[0;36m<module>\u001b[1;34m\u001b[0m\n\u001b[0;32m      1\u001b[0m \u001b[0mvalue\u001b[0m \u001b[1;33m=\u001b[0m \u001b[0mint\u001b[0m\u001b[1;33m(\u001b[0m\u001b[0minput\u001b[0m\u001b[1;33m(\u001b[0m\u001b[1;34m'Enter an integer: '\u001b[0m\u001b[1;33m)\u001b[0m\u001b[1;33m)\u001b[0m\u001b[1;33m\u001b[0m\u001b[1;33m\u001b[0m\u001b[0m\n\u001b[1;32m----> 2\u001b[1;33m \u001b[0mprint\u001b[0m\u001b[1;33m(\u001b[0m\u001b[1;34m'The inverse of'\u001b[0m\u001b[1;33m,\u001b[0m \u001b[0mvalue\u001b[0m\u001b[1;33m,\u001b[0m \u001b[1;34m'is'\u001b[0m\u001b[1;33m,\u001b[0m \u001b[1;36m1\u001b[0m\u001b[1;33m/\u001b[0m\u001b[0mvalue\u001b[0m\u001b[1;33m)\u001b[0m\u001b[1;33m\u001b[0m\u001b[1;33m\u001b[0m\u001b[0m\n\u001b[0m",
      "\u001b[1;31mZeroDivisionError\u001b[0m: division by zero"
     ]
    }
   ],
   "source": [
    "value = int(input('Enter an integer: '))\n",
    "print('The inverse of', value, 'is', 1/value)"
   ]
  },
  {
   "cell_type": "code",
   "execution_count": 3,
   "id": "924700a3",
   "metadata": {},
   "outputs": [
    {
     "name": "stdout",
     "output_type": "stream",
     "text": [
      "Enter an integer: 0\n",
      "Provide an integer\n"
     ]
    }
   ],
   "source": [
    "try:\n",
    "    value = int(input('Enter an integer: '))\n",
    "    print('The inverse of', value, 'is', 1/value)\n",
    "except ValueError:\n",
    "    print('You did not provide a number, so I will not calculate the inverse')\n",
    "except ZeroDivisionError:\n",
    "    print('Provide an integer not a zero')"
   ]
  },
  {
   "cell_type": "code",
   "execution_count": 4,
   "id": "0b21fa88",
   "metadata": {},
   "outputs": [
    {
     "name": "stdout",
     "output_type": "stream",
     "text": [
      "Enter an integer: -\n",
      "You did not provide a number, so I will not calculate the inverse\n"
     ]
    }
   ],
   "source": [
    "try:\n",
    "    value = int(input('Enter an integer: '))\n",
    "    print('The inverse of', value, 'is', 1/value)\n",
    "except ValueError:\n",
    "    print('You did not provide a number, so I will not calculate the inverse')\n",
    "except ZeroDivisionError:\n",
    "    print('Provide an integer not a zero')\n",
    "except:\n",
    "    print('Something strange happened here, sorry')"
   ]
  },
  {
   "cell_type": "code",
   "execution_count": 2,
   "id": "9c79d362",
   "metadata": {},
   "outputs": [
    {
     "name": "stdout",
     "output_type": "stream",
     "text": [
      "Put a number here: 1\n"
     ]
    }
   ],
   "source": [
    "#Syntax Errors\n",
    "\n",
    "try:\n",
    "    number = int(input('Put a number here: '))\n",
    "except SyntaxError:\n",
    "    print('There\\'s a syntax error')"
   ]
  },
  {
   "cell_type": "code",
   "execution_count": 3,
   "id": "94920f11",
   "metadata": {},
   "outputs": [
    {
     "name": "stdout",
     "output_type": "stream",
     "text": [
      "Got it!\n"
     ]
    }
   ],
   "source": [
    "    try:\n",
    "      raise SyntaxError\n",
    "    except:\n",
    "      print('Got it!') # SyntaxError is caught here\n",
    "    "
   ]
  },
  {
   "cell_type": "code",
   "execution_count": 5,
   "id": "47d91603",
   "metadata": {},
   "outputs": [
    {
     "ename": "SyntaxError",
     "evalue": "illegal target for annotation (Temp/ipykernel_32648/1767248748.py, line 2)",
     "output_type": "error",
     "traceback": [
      "\u001b[1;36m  File \u001b[1;32m\"C:\\Users\\Nouser\\AppData\\Local\\Temp/ipykernel_32648/1767248748.py\"\u001b[1;36m, line \u001b[1;32m2\u001b[0m\n\u001b[1;33m    5:4 # this line generates a SyntaxError\u001b[0m\n\u001b[1;37m    ^\u001b[0m\n\u001b[1;31mSyntaxError\u001b[0m\u001b[1;31m:\u001b[0m illegal target for annotation\n"
     ]
    }
   ],
   "source": [
    "    try:\n",
    "      5:4 # this line generates a SyntaxError\n",
    "    except SyntaxError:\n",
    "      print('Got it!') # SyntaxError is NOT caught here"
   ]
  }
 ],
 "metadata": {
  "kernelspec": {
   "display_name": "Python 3 (ipykernel)",
   "language": "python",
   "name": "python3"
  },
  "language_info": {
   "codemirror_mode": {
    "name": "ipython",
    "version": 3
   },
   "file_extension": ".py",
   "mimetype": "text/x-python",
   "name": "python",
   "nbconvert_exporter": "python",
   "pygments_lexer": "ipython3",
   "version": "3.9.7"
  }
 },
 "nbformat": 4,
 "nbformat_minor": 5
}
