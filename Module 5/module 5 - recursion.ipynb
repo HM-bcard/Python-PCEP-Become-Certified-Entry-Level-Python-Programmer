{
 "cells": [
  {
   "cell_type": "code",
   "execution_count": 1,
   "id": "9eee1baa",
   "metadata": {},
   "outputs": [],
   "source": [
    "#recursion take place when a function calls itself"
   ]
  },
  {
   "cell_type": "code",
   "execution_count": 2,
   "id": "21669945",
   "metadata": {},
   "outputs": [],
   "source": [
    " # factorial - silnia\n",
    "# 3! "
   ]
  },
  {
   "cell_type": "code",
   "execution_count": 3,
   "id": "4f7ed61e",
   "metadata": {},
   "outputs": [],
   "source": [
    "#an iterative function\n",
    "def get_factorial(number):\n",
    "    factorial = 1\n",
    "    for x in range(1, number + 1):\n",
    "        factorial *= x\n",
    "    return factorial"
   ]
  },
  {
   "cell_type": "code",
   "execution_count": 4,
   "id": "94a73748",
   "metadata": {},
   "outputs": [
    {
     "name": "stdout",
     "output_type": "stream",
     "text": [
      "720\n"
     ]
    }
   ],
   "source": [
    "print(get_factorial(6))"
   ]
  },
  {
   "cell_type": "code",
   "execution_count": 1,
   "id": "c478495e",
   "metadata": {},
   "outputs": [],
   "source": [
    "def get_factorial_recursive(number):\n",
    "    return number * get_factorial_recursive(number - 1)\n",
    "    "
   ]
  },
  {
   "cell_type": "code",
   "execution_count": null,
   "id": "161e6e61",
   "metadata": {},
   "outputs": [],
   "source": [
    "get_factorial_recursive(6)"
   ]
  },
  {
   "cell_type": "code",
   "execution_count": null,
   "id": "e0245832",
   "metadata": {},
   "outputs": [],
   "source": [
    "get_factorial_recursive(6)"
   ]
  },
  {
   "cell_type": "code",
   "execution_count": null,
   "id": "fbce75b2",
   "metadata": {},
   "outputs": [],
   "source": [
    "get_factorial_recursive(6)"
   ]
  },
  {
   "cell_type": "code",
   "execution_count": 2,
   "id": "e3415a83",
   "metadata": {},
   "outputs": [],
   "source": [
    "# guessing there was a recursion error\n"
   ]
  },
  {
   "cell_type": "code",
   "execution_count": 4,
   "id": "fb5ebba3",
   "metadata": {},
   "outputs": [],
   "source": [
    "def get_factorial_recursive(number):\n",
    "    if number<= 1:\n",
    "        return 1\n",
    "    return number * get_factorial_recursive(number - 1)"
   ]
  },
  {
   "cell_type": "code",
   "execution_count": 5,
   "id": "233de19e",
   "metadata": {},
   "outputs": [
    {
     "data": {
      "text/plain": [
       "720"
      ]
     },
     "execution_count": 5,
     "metadata": {},
     "output_type": "execute_result"
    }
   ],
   "source": [
    "get_factorial_recursive(6)"
   ]
  },
  {
   "cell_type": "code",
   "execution_count": null,
   "id": "5bb922c2",
   "metadata": {},
   "outputs": [],
   "source": []
  }
 ],
 "metadata": {
  "kernelspec": {
   "display_name": "Python 3 (ipykernel)",
   "language": "python",
   "name": "python3"
  },
  "language_info": {
   "codemirror_mode": {
    "name": "ipython",
    "version": 3
   },
   "file_extension": ".py",
   "mimetype": "text/x-python",
   "name": "python",
   "nbconvert_exporter": "python",
   "pygments_lexer": "ipython3",
   "version": "3.9.7"
  }
 },
 "nbformat": 4,
 "nbformat_minor": 5
}
