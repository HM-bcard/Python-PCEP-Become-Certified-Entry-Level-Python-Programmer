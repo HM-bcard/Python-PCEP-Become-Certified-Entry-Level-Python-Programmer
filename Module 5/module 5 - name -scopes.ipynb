{
 "cells": [
  {
   "cell_type": "code",
   "execution_count": 1,
   "id": "e0e08b30",
   "metadata": {},
   "outputs": [],
   "source": [
    "def show_truth():\n",
    "    print(mysterious_var)\n",
    "    "
   ]
  },
  {
   "cell_type": "code",
   "execution_count": 2,
   "id": "ed6e1a67",
   "metadata": {},
   "outputs": [
    {
     "ename": "NameError",
     "evalue": "name 'mysterious_var' is not defined",
     "output_type": "error",
     "traceback": [
      "\u001b[1;31m---------------------------------------------------------------------------\u001b[0m",
      "\u001b[1;31mNameError\u001b[0m                                 Traceback (most recent call last)",
      "\u001b[1;32m~\\AppData\\Local\\Temp/ipykernel_41544/411842930.py\u001b[0m in \u001b[0;36m<module>\u001b[1;34m\u001b[0m\n\u001b[1;32m----> 1\u001b[1;33m \u001b[0mshow_truth\u001b[0m\u001b[1;33m(\u001b[0m\u001b[1;33m)\u001b[0m\u001b[1;33m\u001b[0m\u001b[1;33m\u001b[0m\u001b[0m\n\u001b[0m",
      "\u001b[1;32m~\\AppData\\Local\\Temp/ipykernel_41544/886613979.py\u001b[0m in \u001b[0;36mshow_truth\u001b[1;34m()\u001b[0m\n\u001b[0;32m      1\u001b[0m \u001b[1;32mdef\u001b[0m \u001b[0mshow_truth\u001b[0m\u001b[1;33m(\u001b[0m\u001b[1;33m)\u001b[0m\u001b[1;33m:\u001b[0m\u001b[1;33m\u001b[0m\u001b[1;33m\u001b[0m\u001b[0m\n\u001b[1;32m----> 2\u001b[1;33m     \u001b[0mprint\u001b[0m\u001b[1;33m(\u001b[0m\u001b[0mmysterious_var\u001b[0m\u001b[1;33m)\u001b[0m\u001b[1;33m\u001b[0m\u001b[1;33m\u001b[0m\u001b[0m\n\u001b[0m\u001b[0;32m      3\u001b[0m \u001b[1;33m\u001b[0m\u001b[0m\n",
      "\u001b[1;31mNameError\u001b[0m: name 'mysterious_var' is not defined"
     ]
    }
   ],
   "source": [
    "show_truth()"
   ]
  },
  {
   "cell_type": "code",
   "execution_count": 3,
   "id": "4b1e1faf",
   "metadata": {},
   "outputs": [
    {
     "name": "stdout",
     "output_type": "stream",
     "text": [
      "Surprise\n"
     ]
    }
   ],
   "source": [
    "def show_truth():\n",
    "    mysterious_var = 'Surprise'\n",
    "    print(mysterious_var)\n",
    "show_truth()"
   ]
  },
  {
   "cell_type": "code",
   "execution_count": 4,
   "id": "1ac69c5b",
   "metadata": {},
   "outputs": [
    {
     "name": "stdout",
     "output_type": "stream",
     "text": [
      "Surprise\n"
     ]
    }
   ],
   "source": [
    "def show_truth():\n",
    "    \n",
    "    print(mysterious_var)\n",
    "    \n",
    "mysterious_var = 'Surprise'\n",
    "show_truth()"
   ]
  },
  {
   "cell_type": "code",
   "execution_count": 12,
   "id": "e223eda2",
   "metadata": {},
   "outputs": [
    {
     "name": "stdout",
     "output_type": "stream",
     "text": [
      "Surprise\n",
      "New Surprise!\n",
      "Surprise\n"
     ]
    }
   ],
   "source": [
    "def show_truth():\n",
    "    mysterious_var='New Surprise!'\n",
    "    print(mysterious_var)\n",
    "\"\"\"Python seese that there's \n",
    "already a value of variable called \n",
    "\"mysterious_var\" so for the purpose of the\n",
    "function a new (only for use inside the function) value is created\"\"\"\n",
    "    \n",
    "    \n",
    "mysterious_var = 'Surprise'\n",
    "print(mysterious_var)\n",
    "show_truth()\n",
    "print(mysterious_var)"
   ]
  },
  {
   "cell_type": "code",
   "execution_count": null,
   "id": "21ceeba3",
   "metadata": {},
   "outputs": [],
   "source": [
    "\"\"\"The local value of the variable 'shadows' the global variable\"\"\""
   ]
  },
  {
   "cell_type": "code",
   "execution_count": null,
   "id": "fd10d1d9",
   "metadata": {},
   "outputs": [],
   "source": [
    "#'To modify a global variable purpusely use \"global\" keyword'"
   ]
  },
  {
   "cell_type": "code",
   "execution_count": 15,
   "id": "21be5656",
   "metadata": {},
   "outputs": [
    {
     "name": "stdout",
     "output_type": "stream",
     "text": [
      "New Surprise\n",
      "Surprise\n",
      "New Surprise\n",
      "New Surprise\n"
     ]
    }
   ],
   "source": [
    "def show_truth():\n",
    "    global mysterious_var\n",
    "    mysterious_var='New Surprise'\n",
    "    print(mysterious_var)\n",
    "    \n",
    "mysterious_var = 'Surprise'\n",
    "show_truth()\n",
    "mysterious_var = 'Surprise'\n",
    "print(mysterious_var)\n",
    "show_truth()\n",
    "print(mysterious_var)"
   ]
  },
  {
   "cell_type": "code",
   "execution_count": 17,
   "id": "a6f47ad9",
   "metadata": {},
   "outputs": [
    {
     "name": "stdout",
     "output_type": "stream",
     "text": [
      "['Surprise']\n",
      "['New Surprise']\n",
      "['Surprise']\n"
     ]
    }
   ],
   "source": [
    "def show_truth():\n",
    "    mysterious_var.append=['New Surprise']\n",
    "    print(mysterious_var)\n",
    "    \n",
    "mysterious_var = ['Surprise']\n",
    "print(mysterious_var)\n",
    "show_truth()\n",
    "print(mysterious_var)"
   ]
  },
  {
   "cell_type": "code",
   "execution_count": 18,
   "id": "097a20fb",
   "metadata": {},
   "outputs": [
    {
     "name": "stdout",
     "output_type": "stream",
     "text": [
      "['Surprise']\n",
      "['Surprise', 'New Surprise']\n",
      "['Surprise', 'New Surprise']\n"
     ]
    }
   ],
   "source": [
    "def show_truth():\n",
    "    mysterious_var.append('New Surprise')\n",
    "    print(mysterious_var)\n",
    "    \n",
    "mysterious_var = ['Surprise']\n",
    "print(mysterious_var)\n",
    "show_truth()\n",
    "print(mysterious_var)"
   ]
  }
 ],
 "metadata": {
  "kernelspec": {
   "display_name": "Python 3 (ipykernel)",
   "language": "python",
   "name": "python3"
  },
  "language_info": {
   "codemirror_mode": {
    "name": "ipython",
    "version": 3
   },
   "file_extension": ".py",
   "mimetype": "text/x-python",
   "name": "python",
   "nbconvert_exporter": "python",
   "pygments_lexer": "ipython3",
   "version": "3.9.7"
  }
 },
 "nbformat": 4,
 "nbformat_minor": 5
}
