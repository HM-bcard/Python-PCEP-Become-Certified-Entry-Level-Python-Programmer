{
 "cells": [
  {
   "cell_type": "code",
   "execution_count": null,
   "id": "4a1811fc",
   "metadata": {},
   "outputs": [],
   "source": [
    "# i have to repeat this one"
   ]
  },
  {
   "cell_type": "code",
   "execution_count": 1,
   "id": "7a50828d",
   "metadata": {},
   "outputs": [
    {
     "name": "stdout",
     "output_type": "stream",
     "text": [
      "Hi, I will collect your birthday information.\n",
      "What is the day of your bday? 1\n",
      "What is the month (use an integer 1-12) of your bday? 1\n",
      "What year is your birthday? 1990\n",
      "Your birthday is  [1, 1, 1990]\n"
     ]
    }
   ],
   "source": [
    "def get_day(user_info):\n",
    "    day = int(input('What is the day of your bday? '))\n",
    "    user_info.append(day)\n",
    "\n",
    "def get_month(user_info):\n",
    "    month = int(input('What is the month (use an integer 1-12) of your bday? '))\n",
    "    user_info.append(month)\n",
    "    \n",
    "def get_year(user_info):\n",
    "    year = int(input('What year is your birthday? '))\n",
    "    user_info.append(year)\n",
    "\n",
    "def get_user_bday(user_info):\n",
    "    get_day(user_info)\n",
    "    get_month(user_info)\n",
    "    get_year(user_info)\n",
    "    print('Your birthday is ', user_info)\n",
    "    \n",
    "print('Hi, I will collect your birthday information.')\n",
    "user_info = []\n",
    "get_user_bday(user_info)\n"
   ]
  },
  {
   "cell_type": "code",
   "execution_count": 2,
   "id": "77d468a7",
   "metadata": {},
   "outputs": [
    {
     "ename": "SyntaxError",
     "evalue": "'return' outside function (Temp/ipykernel_18724/1722929155.py, line 1)",
     "output_type": "error",
     "traceback": [
      "\u001b[1;36m  File \u001b[1;32m\"C:\\Users\\Nouser\\AppData\\Local\\Temp/ipykernel_18724/1722929155.py\"\u001b[1;36m, line \u001b[1;32m1\u001b[0m\n\u001b[1;33m    return(user_info)\u001b[0m\n\u001b[1;37m    ^\u001b[0m\n\u001b[1;31mSyntaxError\u001b[0m\u001b[1;31m:\u001b[0m 'return' outside function\n"
     ]
    }
   ],
   "source": [
    "return(user_info)"
   ]
  },
  {
   "cell_type": "code",
   "execution_count": 3,
   "id": "29aa3b09",
   "metadata": {},
   "outputs": [
    {
     "name": "stdout",
     "output_type": "stream",
     "text": [
      "[1, 1, 1990]\n"
     ]
    }
   ],
   "source": [
    "print(user_info)"
   ]
  },
  {
   "cell_type": "code",
   "execution_count": 4,
   "id": "e02b3857",
   "metadata": {},
   "outputs": [
    {
     "name": "stdout",
     "output_type": "stream",
     "text": [
      "Hi, I will collect your birthday information.\n",
      "What is the day of your bday? a\n"
     ]
    },
    {
     "ename": "ValueError",
     "evalue": "invalid literal for int() with base 10: 'a'",
     "output_type": "error",
     "traceback": [
      "\u001b[1;31m---------------------------------------------------------------------------\u001b[0m",
      "\u001b[1;31mValueError\u001b[0m                                Traceback (most recent call last)",
      "\u001b[1;32m~\\AppData\\Local\\Temp/ipykernel_18724/2681328371.py\u001b[0m in \u001b[0;36m<module>\u001b[1;34m\u001b[0m\n\u001b[0;32m     19\u001b[0m \u001b[0mprint\u001b[0m\u001b[1;33m(\u001b[0m\u001b[1;34m'Hi, I will collect your birthday information.'\u001b[0m\u001b[1;33m)\u001b[0m\u001b[1;33m\u001b[0m\u001b[1;33m\u001b[0m\u001b[0m\n\u001b[0;32m     20\u001b[0m \u001b[0muser_info\u001b[0m \u001b[1;33m=\u001b[0m \u001b[1;33m[\u001b[0m\u001b[1;33m]\u001b[0m\u001b[1;33m\u001b[0m\u001b[1;33m\u001b[0m\u001b[0m\n\u001b[1;32m---> 21\u001b[1;33m \u001b[0mget_user_bday\u001b[0m\u001b[1;33m(\u001b[0m\u001b[0muser_info\u001b[0m\u001b[1;33m)\u001b[0m\u001b[1;33m\u001b[0m\u001b[1;33m\u001b[0m\u001b[0m\n\u001b[0m",
      "\u001b[1;32m~\\AppData\\Local\\Temp/ipykernel_18724/2681328371.py\u001b[0m in \u001b[0;36mget_user_bday\u001b[1;34m(user_info)\u001b[0m\n\u001b[0;32m     12\u001b[0m \u001b[1;33m\u001b[0m\u001b[0m\n\u001b[0;32m     13\u001b[0m \u001b[1;32mdef\u001b[0m \u001b[0mget_user_bday\u001b[0m\u001b[1;33m(\u001b[0m\u001b[0muser_info\u001b[0m\u001b[1;33m)\u001b[0m\u001b[1;33m:\u001b[0m\u001b[1;33m\u001b[0m\u001b[1;33m\u001b[0m\u001b[0m\n\u001b[1;32m---> 14\u001b[1;33m     \u001b[0mget_day\u001b[0m\u001b[1;33m(\u001b[0m\u001b[0muser_info\u001b[0m\u001b[1;33m)\u001b[0m\u001b[1;33m\u001b[0m\u001b[1;33m\u001b[0m\u001b[0m\n\u001b[0m\u001b[0;32m     15\u001b[0m     \u001b[0mget_month\u001b[0m\u001b[1;33m(\u001b[0m\u001b[0muser_info\u001b[0m\u001b[1;33m)\u001b[0m\u001b[1;33m\u001b[0m\u001b[1;33m\u001b[0m\u001b[0m\n\u001b[0;32m     16\u001b[0m     \u001b[0mget_year\u001b[0m\u001b[1;33m(\u001b[0m\u001b[0muser_info\u001b[0m\u001b[1;33m)\u001b[0m\u001b[1;33m\u001b[0m\u001b[1;33m\u001b[0m\u001b[0m\n",
      "\u001b[1;32m~\\AppData\\Local\\Temp/ipykernel_18724/2681328371.py\u001b[0m in \u001b[0;36mget_day\u001b[1;34m(user_info)\u001b[0m\n\u001b[0;32m      1\u001b[0m \u001b[1;32mdef\u001b[0m \u001b[0mget_day\u001b[0m\u001b[1;33m(\u001b[0m\u001b[0muser_info\u001b[0m\u001b[1;33m)\u001b[0m\u001b[1;33m:\u001b[0m\u001b[1;33m\u001b[0m\u001b[1;33m\u001b[0m\u001b[0m\n\u001b[1;32m----> 2\u001b[1;33m     \u001b[0mday\u001b[0m \u001b[1;33m=\u001b[0m \u001b[0mint\u001b[0m\u001b[1;33m(\u001b[0m\u001b[0minput\u001b[0m\u001b[1;33m(\u001b[0m\u001b[1;34m'What is the day of your bday? '\u001b[0m\u001b[1;33m)\u001b[0m\u001b[1;33m)\u001b[0m\u001b[1;33m\u001b[0m\u001b[1;33m\u001b[0m\u001b[0m\n\u001b[0m\u001b[0;32m      3\u001b[0m     \u001b[0muser_info\u001b[0m\u001b[1;33m.\u001b[0m\u001b[0mappend\u001b[0m\u001b[1;33m(\u001b[0m\u001b[0mday\u001b[0m\u001b[1;33m)\u001b[0m\u001b[1;33m\u001b[0m\u001b[1;33m\u001b[0m\u001b[0m\n\u001b[0;32m      4\u001b[0m \u001b[1;33m\u001b[0m\u001b[0m\n\u001b[0;32m      5\u001b[0m \u001b[1;32mdef\u001b[0m \u001b[0mget_month\u001b[0m\u001b[1;33m(\u001b[0m\u001b[0muser_info\u001b[0m\u001b[1;33m)\u001b[0m\u001b[1;33m:\u001b[0m\u001b[1;33m\u001b[0m\u001b[1;33m\u001b[0m\u001b[0m\n",
      "\u001b[1;31mValueError\u001b[0m: invalid literal for int() with base 10: 'a'"
     ]
    }
   ],
   "source": [
    "def get_day(user_info):\n",
    "    day = int(input('What is the day of your bday? '))\n",
    "    user_info.append(day)\n",
    "\n",
    "def get_month(user_info):\n",
    "    month = int(input('What is the month (use an integer 1-12) of your bday? '))\n",
    "    user_info.append(month)\n",
    "    \n",
    "def get_year(user_info):\n",
    "    year = int(input('What year is your birthday? '))\n",
    "    user_info.append(year)\n",
    "\n",
    "def get_user_bday(user_info):\n",
    "    get_day(user_info)\n",
    "    get_month(user_info)\n",
    "    get_year(user_info)\n",
    "    print('Your birthday is ', user_info)\n",
    "    \n",
    "print('Hi, I will collect your birthday information.')\n",
    "user_info = []\n",
    "get_user_bday(user_info)\n"
   ]
  },
  {
   "cell_type": "code",
   "execution_count": 8,
   "id": "e3025ef5",
   "metadata": {},
   "outputs": [
    {
     "name": "stdout",
     "output_type": "stream",
     "text": [
      "Hi, I will collect your birthday information.\n",
      "What is the day of your bday? 1\n",
      "What is the month (use an integer 1-12) of your bday? a\n",
      "You entered incorrect value\n"
     ]
    }
   ],
   "source": [
    "\"\"\"\n",
    "single try-except\n",
    "\n",
    "\"\"\"\n",
    "\n",
    "\n",
    "\n",
    "\n",
    "\n",
    "\n",
    "def get_day(user_info):\n",
    "    day = int(input('What is the day of your bday? '))\n",
    "    user_info.append(day)\n",
    "\n",
    "def get_month(user_info):\n",
    "    month = int(input('What is the month (use an integer 1-12) of your bday? '))\n",
    "    user_info.append(month)\n",
    "    \n",
    "def get_year(user_info):\n",
    "    year = int(input('What year is your birthday? '))\n",
    "    user_info.append(year)\n",
    "\n",
    "def get_user_bday(user_info):\n",
    "    try:\n",
    "        get_day(user_info)\n",
    "        get_month(user_info)\n",
    "        get_year(user_info)\n",
    "        print('Your birthday is ', user_info)\n",
    "    except:\n",
    "        print('You entered incorrect value')\n",
    "    \n",
    "print('Hi, I will collect your birthday information.')\n",
    "user_info = []\n",
    "get_user_bday(user_info)\n"
   ]
  },
  {
   "cell_type": "code",
   "execution_count": 6,
   "id": "6a5265a8",
   "metadata": {},
   "outputs": [
    {
     "ename": "SyntaxError",
     "evalue": "'return' outside function (Temp/ipykernel_18724/1629330607.py, line 1)",
     "output_type": "error",
     "traceback": [
      "\u001b[1;36m  File \u001b[1;32m\"C:\\Users\\Nouser\\AppData\\Local\\Temp/ipykernel_18724/1629330607.py\"\u001b[1;36m, line \u001b[1;32m1\u001b[0m\n\u001b[1;33m    return user_info\u001b[0m\n\u001b[1;37m    ^\u001b[0m\n\u001b[1;31mSyntaxError\u001b[0m\u001b[1;31m:\u001b[0m 'return' outside function\n"
     ]
    }
   ],
   "source": [
    "return user_info"
   ]
  },
  {
   "cell_type": "code",
   "execution_count": 9,
   "id": "b48b5e96",
   "metadata": {},
   "outputs": [
    {
     "name": "stdout",
     "output_type": "stream",
     "text": [
      "Hi, I will collect your birthday information.\n",
      "What is the day of your bday? 1\n",
      "What is the month (use an integer 1-12) of your bday? 12\n",
      "What year is your birthday? a\n",
      "You entered incorrect value\n"
     ]
    }
   ],
   "source": [
    "\"\"\"\n",
    "single try-except\n",
    "\n",
    "\"\"\"\n",
    "\n",
    "\n",
    "\n",
    "\n",
    "\n",
    "\n",
    "def get_day(user_info):\n",
    "    day = int(input('What is the day of your bday? '))\n",
    "    user_info.append(day)\n",
    "\n",
    "def get_month(user_info):\n",
    "    month = int(input('What is the month (use an integer 1-12) of your bday? '))\n",
    "    user_info.append(month)\n",
    "    \n",
    "def get_year(user_info):\n",
    "    year = int(input('What year is your birthday? '))\n",
    "    user_info.append(year)\n",
    "\n",
    "def get_user_bday(user_info):\n",
    "    try:\n",
    "        get_day(user_info)\n",
    "        get_month(user_info)\n",
    "        get_year(user_info)\n",
    "        print('Your birthday is ', user_info)\n",
    "    except:\n",
    "        print('You entered incorrect value')\n",
    "    \n",
    "print('Hi, I will collect your birthday information.')\n",
    "user_info = []\n",
    "get_user_bday(user_info)"
   ]
  },
  {
   "cell_type": "code",
   "execution_count": null,
   "id": "c3e19cdc",
   "metadata": {},
   "outputs": [],
   "source": [
    "# exceptions are propafated through functions\n",
    "# - the get_user_bday is calling a function through the try /except block"
   ]
  }
 ],
 "metadata": {
  "kernelspec": {
   "display_name": "Python 3 (ipykernel)",
   "language": "python",
   "name": "python3"
  },
  "language_info": {
   "codemirror_mode": {
    "name": "ipython",
    "version": 3
   },
   "file_extension": ".py",
   "mimetype": "text/x-python",
   "name": "python",
   "nbconvert_exporter": "python",
   "pygments_lexer": "ipython3",
   "version": "3.9.7"
  }
 },
 "nbformat": 4,
 "nbformat_minor": 5
}
