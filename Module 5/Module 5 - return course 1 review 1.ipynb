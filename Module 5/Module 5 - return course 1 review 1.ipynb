{
 "cells": [
  {
   "cell_type": "code",
   "execution_count": 1,
   "id": "4835bef4",
   "metadata": {},
   "outputs": [],
   "source": [
    "input_numbers = [5., 3.5, 7.8, 9.9]\n",
    "\n",
    "def get_average(input_numbers):\n",
    "    sum = 0.0\n",
    "    for number in input_numbers:\n",
    "        sum += number\n",
    "    average = sum / len(input_numbers)\n",
    "    return(average)"
   ]
  },
  {
   "cell_type": "code",
   "execution_count": 2,
   "id": "923ca350",
   "metadata": {},
   "outputs": [
    {
     "name": "stdout",
     "output_type": "stream",
     "text": [
      "<function get_average at 0x000001F2A1785D30>\n"
     ]
    }
   ],
   "source": [
    "print(get_average)"
   ]
  },
  {
   "cell_type": "code",
   "execution_count": null,
   "id": "27341269",
   "metadata": {},
   "outputs": [],
   "source": []
  }
 ],
 "metadata": {
  "kernelspec": {
   "display_name": "Python 3 (ipykernel)",
   "language": "python",
   "name": "python3"
  },
  "language_info": {
   "codemirror_mode": {
    "name": "ipython",
    "version": 3
   },
   "file_extension": ".py",
   "mimetype": "text/x-python",
   "name": "python",
   "nbconvert_exporter": "python",
   "pygments_lexer": "ipython3",
   "version": "3.9.7"
  }
 },
 "nbformat": 4,
 "nbformat_minor": 5
}
