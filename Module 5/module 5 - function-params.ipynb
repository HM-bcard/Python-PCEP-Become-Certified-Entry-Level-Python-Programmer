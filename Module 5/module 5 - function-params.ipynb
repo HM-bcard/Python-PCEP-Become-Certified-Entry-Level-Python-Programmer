{
 "cells": [
  {
   "cell_type": "code",
   "execution_count": null,
   "id": "55880c7d",
   "metadata": {},
   "outputs": [],
   "source": [
    "def get_average(input_numbers):\n",
    "    sum = 0.0\n",
    "    for number in input"
   ]
  },
  {
   "cell_type": "code",
   "execution_count": 2,
   "id": "c6063eaa",
   "metadata": {},
   "outputs": [
    {
     "name": "stdout",
     "output_type": "stream",
     "text": [
      "7.24\n"
     ]
    }
   ],
   "source": [
    "input_numbers = [5.0, 3.5, 7.8,9.9, 10.0]\n",
    "\n",
    "sum = 0.0\n",
    "for number in input_numbers:\n",
    "    sum+=number\n",
    "average = sum / len(input_numbers)\n",
    "\n",
    "print(average)"
   ]
  },
  {
   "cell_type": "code",
   "execution_count": 3,
   "id": "b33f9f9b",
   "metadata": {},
   "outputs": [],
   "source": [
    "# now the code into a function:"
   ]
  },
  {
   "cell_type": "code",
   "execution_count": 5,
   "id": "2c50bfa5",
   "metadata": {},
   "outputs": [],
   "source": [
    "input_numbers = [5.0, 3.5, 7.8,9.9, 10.0]\n",
    "\n",
    "def get_average(input_numbers):\n",
    "    sum = 0.0\n",
    "    for number in input_numbers:\n",
    "        sum+=number\n",
    "    average = sum / len(input_numbers)\n",
    "\n",
    "    print(average)"
   ]
  },
  {
   "cell_type": "code",
   "execution_count": 6,
   "id": "61b7e391",
   "metadata": {},
   "outputs": [
    {
     "name": "stdout",
     "output_type": "stream",
     "text": [
      "7.24\n"
     ]
    }
   ],
   "source": [
    "def get_average(input_numbers):\n",
    "    sum = 0.0\n",
    "    for number in input_numbers:\n",
    "        sum+=number\n",
    "    average = sum / len(input_numbers)\n",
    "\n",
    "    print(average)\n",
    "get_average([5.0, 3.5, 7.8,9.9, 10.0])"
   ]
  },
  {
   "cell_type": "code",
   "execution_count": 8,
   "id": "9062ec1c",
   "metadata": {},
   "outputs": [
    {
     "ename": "TypeError",
     "evalue": "get_average() missing 1 required positional argument: 'input_numbers'",
     "output_type": "error",
     "traceback": [
      "\u001b[1;31m---------------------------------------------------------------------------\u001b[0m",
      "\u001b[1;31mTypeError\u001b[0m                                 Traceback (most recent call last)",
      "\u001b[1;32m~\\AppData\\Local\\Temp/ipykernel_29424/1742480711.py\u001b[0m in \u001b[0;36m<module>\u001b[1;34m\u001b[0m\n\u001b[1;32m----> 1\u001b[1;33m \u001b[0mget_average\u001b[0m\u001b[1;33m(\u001b[0m\u001b[1;33m)\u001b[0m\u001b[1;33m\u001b[0m\u001b[1;33m\u001b[0m\u001b[0m\n\u001b[0m",
      "\u001b[1;31mTypeError\u001b[0m: get_average() missing 1 required positional argument: 'input_numbers'"
     ]
    }
   ],
   "source": [
    "get_average() #get_average() missing 1 required positional argument: 'input_numbers'"
   ]
  },
  {
   "cell_type": "code",
   "execution_count": 9,
   "id": "9d2bbdc7",
   "metadata": {},
   "outputs": [],
   "source": [
    "def print_letter_count(text,letter): # arguments to be input\n",
    "    counter =0\n",
    "    for char in text:\n",
    "        if char == letter:\n",
    "            counter += 1\n",
    "    print('Number of', letter, 'is', counter)"
   ]
  },
  {
   "cell_type": "code",
   "execution_count": 10,
   "id": "80a58d8a",
   "metadata": {},
   "outputs": [
    {
     "name": "stdout",
     "output_type": "stream",
     "text": [
      "Number of e is 2\n"
     ]
    }
   ],
   "source": [
    "print_letter_count('Welcome','e')"
   ]
  },
  {
   "cell_type": "code",
   "execution_count": 11,
   "id": "e5825a78",
   "metadata": {},
   "outputs": [
    {
     "name": "stdout",
     "output_type": "stream",
     "text": [
      "Number of e is 2\n"
     ]
    }
   ],
   "source": [
    "print_letter_count(letter='e', text='Welcome')#we can manually swap the argument order by typing the arguments into the function"
   ]
  },
  {
   "cell_type": "code",
   "execution_count": null,
   "id": "17f7f929",
   "metadata": {},
   "outputs": [],
   "source": []
  }
 ],
 "metadata": {
  "kernelspec": {
   "display_name": "Python 3 (ipykernel)",
   "language": "python",
   "name": "python3"
  },
  "language_info": {
   "codemirror_mode": {
    "name": "ipython",
    "version": 3
   },
   "file_extension": ".py",
   "mimetype": "text/x-python",
   "name": "python",
   "nbconvert_exporter": "python",
   "pygments_lexer": "ipython3",
   "version": "3.9.7"
  }
 },
 "nbformat": 4,
 "nbformat_minor": 5
}
