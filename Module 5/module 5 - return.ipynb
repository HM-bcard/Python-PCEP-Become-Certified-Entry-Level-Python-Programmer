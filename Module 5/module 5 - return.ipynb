{
 "cells": [
  {
   "cell_type": "code",
   "execution_count": 2,
   "id": "8d695ccb",
   "metadata": {},
   "outputs": [],
   "source": [
    " def get_average(input_numbers):\n",
    "        sum = 0.0\n",
    "        for number in input_numbers:\n",
    "            sum += number\n",
    "        average = sum/len(input_numbers)\n",
    "        print(average)"
   ]
  },
  {
   "cell_type": "code",
   "execution_count": null,
   "id": "1acd9ae2",
   "metadata": {},
   "outputs": [],
   "source": [
    "#it's not a common practice to write functions that print \n",
    "#something to the console - it's more ommon to write functions that return the value\n"
   ]
  },
  {
   "cell_type": "code",
   "execution_count": 4,
   "id": "904716bd",
   "metadata": {},
   "outputs": [],
   "source": [
    " def get_average(input_numbers):\n",
    "        sum = 0.0\n",
    "        for number in input_numbers:\n",
    "            sum += number\n",
    "        average = sum/len(input_numbers)\n",
    "        return average"
   ]
  },
  {
   "cell_type": "code",
   "execution_count": 5,
   "id": "a1030bc3",
   "metadata": {},
   "outputs": [
    {
     "name": "stdout",
     "output_type": "stream",
     "text": [
      "The average is 7.24\n"
     ]
    }
   ],
   "source": [
    "print('The average is', get_average([5.0, 3.5, 7.8, 9.9, 10.0]))"
   ]
  },
  {
   "cell_type": "code",
   "execution_count": 10,
   "id": "cbd0f4c8",
   "metadata": {},
   "outputs": [
    {
     "name": "stdout",
     "output_type": "stream",
     "text": [
      "It's too high\n"
     ]
    }
   ],
   "source": [
    " average = get_average([5.0, 3.5, 7.8, 9.9, 10.0])\n",
    "if average > 5:\n",
    "    print('It\\'s too high')"
   ]
  },
  {
   "cell_type": "code",
   "execution_count": 16,
   "id": "9e66230a",
   "metadata": {},
   "outputs": [
    {
     "data": {
      "text/plain": [
       "0.0"
      ]
     },
     "execution_count": 16,
     "metadata": {},
     "output_type": "execute_result"
    }
   ],
   "source": [
    " def get_average(input_numbers):\n",
    "        sum = 0.0\n",
    "        for number in input_numbers:\n",
    "            sum += number\n",
    "        average = sum/len(input_numbers)\n",
    "        return(average) # keyword 'return' ends the execution of the function\n",
    "        print('Show me!')\n",
    "        \n",
    "get_average([0])"
   ]
  },
  {
   "cell_type": "code",
   "execution_count": 32,
   "id": "eeb27db3",
   "metadata": {},
   "outputs": [],
   "source": [
    "def is_first_last_equal(number_list):\n",
    "    if len(number_list)==0:\n",
    "        return \n",
    "\n",
    "    if (number_list[0]==number_list[-1]):# [-1] is the last value of a list\n",
    "        return True\n",
    "    else:\n",
    "        return False"
   ]
  },
  {
   "cell_type": "code",
   "execution_count": 22,
   "id": "0980e9ab",
   "metadata": {},
   "outputs": [
    {
     "data": {
      "text/plain": [
       "False"
      ]
     },
     "execution_count": 22,
     "metadata": {},
     "output_type": "execute_result"
    }
   ],
   "source": [
    "is_first_last_equal([5.0, 3.5, 7.8, 9.9, 10.0])"
   ]
  },
  {
   "cell_type": "code",
   "execution_count": 23,
   "id": "228c3ef0",
   "metadata": {},
   "outputs": [
    {
     "ename": "IndexError",
     "evalue": "list index out of range",
     "output_type": "error",
     "traceback": [
      "\u001b[1;31m---------------------------------------------------------------------------\u001b[0m",
      "\u001b[1;31mIndexError\u001b[0m                                Traceback (most recent call last)",
      "\u001b[1;32m~\\AppData\\Local\\Temp/ipykernel_30608/388898309.py\u001b[0m in \u001b[0;36m<module>\u001b[1;34m\u001b[0m\n\u001b[1;32m----> 1\u001b[1;33m \u001b[0mis_first_last_equal\u001b[0m\u001b[1;33m(\u001b[0m\u001b[1;33m[\u001b[0m\u001b[1;33m]\u001b[0m\u001b[1;33m)\u001b[0m\u001b[1;33m\u001b[0m\u001b[1;33m\u001b[0m\u001b[0m\n\u001b[0m",
      "\u001b[1;32m~\\AppData\\Local\\Temp/ipykernel_30608/2247001158.py\u001b[0m in \u001b[0;36mis_first_last_equal\u001b[1;34m(number_list)\u001b[0m\n\u001b[0;32m      1\u001b[0m \u001b[1;32mdef\u001b[0m \u001b[0mis_first_last_equal\u001b[0m \u001b[1;33m(\u001b[0m\u001b[0mnumber_list\u001b[0m\u001b[1;33m)\u001b[0m\u001b[1;33m:\u001b[0m\u001b[1;33m\u001b[0m\u001b[1;33m\u001b[0m\u001b[0m\n\u001b[1;32m----> 2\u001b[1;33m     \u001b[1;32mif\u001b[0m \u001b[1;33m(\u001b[0m\u001b[0mnumber_list\u001b[0m\u001b[1;33m[\u001b[0m\u001b[1;36m0\u001b[0m\u001b[1;33m]\u001b[0m\u001b[1;33m==\u001b[0m\u001b[0mnumber_list\u001b[0m\u001b[1;33m[\u001b[0m\u001b[1;33m-\u001b[0m\u001b[1;36m1\u001b[0m\u001b[1;33m]\u001b[0m\u001b[1;33m)\u001b[0m\u001b[1;33m:\u001b[0m\u001b[1;31m# [-1] is the last value of a list\u001b[0m\u001b[1;33m\u001b[0m\u001b[1;33m\u001b[0m\u001b[0m\n\u001b[0m\u001b[0;32m      3\u001b[0m         \u001b[1;32mreturn\u001b[0m \u001b[1;32mTrue\u001b[0m\u001b[1;33m\u001b[0m\u001b[1;33m\u001b[0m\u001b[0m\n\u001b[0;32m      4\u001b[0m     \u001b[1;32melse\u001b[0m\u001b[1;33m:\u001b[0m\u001b[1;33m\u001b[0m\u001b[1;33m\u001b[0m\u001b[0m\n\u001b[0;32m      5\u001b[0m         \u001b[1;32mreturn\u001b[0m \u001b[1;32mFalse\u001b[0m\u001b[1;33m\u001b[0m\u001b[1;33m\u001b[0m\u001b[0m\n",
      "\u001b[1;31mIndexError\u001b[0m: list index out of range"
     ]
    }
   ],
   "source": [
    "is_first_last_equal([])"
   ]
  },
  {
   "cell_type": "code",
   "execution_count": 27,
   "id": "dca0d11c",
   "metadata": {},
   "outputs": [],
   "source": [
    "def is_first_last_equal(number_list):\n",
    "    if len(number_list)== 0:\n",
    "        return \n",
    "    if (number_list[0]==number_list[-1]):# [-1] is the last value of a list\n",
    "        return True\n",
    "    else:\n",
    "        return False"
   ]
  },
  {
   "cell_type": "code",
   "execution_count": 35,
   "id": "40cb662d",
   "metadata": {},
   "outputs": [],
   "source": [
    "is_first_last_equal([])"
   ]
  },
  {
   "cell_type": "code",
   "execution_count": 34,
   "id": "77f3e224",
   "metadata": {},
   "outputs": [],
   "source": [
    "is_first_last_equal([])"
   ]
  },
  {
   "cell_type": "code",
   "execution_count": 36,
   "id": "158e6090",
   "metadata": {},
   "outputs": [
    {
     "name": "stdout",
     "output_type": "stream",
     "text": [
      "None\n"
     ]
    }
   ],
   "source": [
    "print(is_first_last_equal([])) "
   ]
  },
  {
   "cell_type": "code",
   "execution_count": null,
   "id": "ceb1cc0a",
   "metadata": {},
   "outputs": [],
   "source": [
    "    def unique(input_list=[]): #defining a parameter inside the function definition \n",
    "      to_return = []\n",
    "      for el in input_list:\n",
    "        if el not in to_return:\n",
    "          to_return.append(el) # appending a list \n",
    "      return to_return"
   ]
  }
 ],
 "metadata": {
  "kernelspec": {
   "display_name": "Python 3 (ipykernel)",
   "language": "python",
   "name": "python3"
  },
  "language_info": {
   "codemirror_mode": {
    "name": "ipython",
    "version": 3
   },
   "file_extension": ".py",
   "mimetype": "text/x-python",
   "name": "python",
   "nbconvert_exporter": "python",
   "pygments_lexer": "ipython3",
   "version": "3.9.7"
  }
 },
 "nbformat": 4,
 "nbformat_minor": 5
}
