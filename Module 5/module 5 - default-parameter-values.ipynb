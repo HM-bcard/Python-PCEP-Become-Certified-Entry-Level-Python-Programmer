{
 "cells": [
  {
   "cell_type": "code",
   "execution_count": 1,
   "id": "756febea",
   "metadata": {},
   "outputs": [
    {
     "name": "stdout",
     "output_type": "stream",
     "text": [
      "Hello-How are You?."
     ]
    }
   ],
   "source": [
    "print('Hello','How are You?',end='.',sep='-')"
   ]
  },
  {
   "cell_type": "code",
   "execution_count": 4,
   "id": "479de4f8",
   "metadata": {},
   "outputs": [],
   "source": [
    "def print_letter_count(text, letter='a'): #defining the positional arguments in the function definition\n",
    "    counter = 0\n",
    "    for char in text:\n",
    "        if char ==letter:\n",
    "            counter+=1\n",
    "    print('Number of', letter, 'is', counter)\n",
    "    "
   ]
  },
  {
   "cell_type": "code",
   "execution_count": 5,
   "id": "25db1fe2",
   "metadata": {},
   "outputs": [
    {
     "name": "stdout",
     "output_type": "stream",
     "text": [
      "Number of a is 2\n"
     ]
    }
   ],
   "source": [
    "print_letter_count('How many a\\'s?' )"
   ]
  },
  {
   "cell_type": "code",
   "execution_count": 6,
   "id": "86a385f6",
   "metadata": {},
   "outputs": [],
   "source": [
    "def print_letter_count(text='Aaaaa Tonaaay!', letter='a'): #defining the positional arguments in the function definition\n",
    "    counter = 0\n",
    "    for char in text:\n",
    "        if char ==letter:\n",
    "            counter+=1\n",
    "    print('Number of', letter, 'is', counter)\n",
    "    "
   ]
  },
  {
   "cell_type": "code",
   "execution_count": 7,
   "id": "f0895d96",
   "metadata": {},
   "outputs": [
    {
     "name": "stdout",
     "output_type": "stream",
     "text": [
      "Number of a is 7\n"
     ]
    }
   ],
   "source": [
    "print_letter_count()"
   ]
  },
  {
   "cell_type": "code",
   "execution_count": 9,
   "id": "73105bd3",
   "metadata": {},
   "outputs": [
    {
     "name": "stdout",
     "output_type": "stream",
     "text": [
      "Number of D is 1\n"
     ]
    }
   ],
   "source": [
    "print_letter_count('Daft punk', letter='D') #case sensitive"
   ]
  }
 ],
 "metadata": {
  "kernelspec": {
   "display_name": "Python 3 (ipykernel)",
   "language": "python",
   "name": "python3"
  },
  "language_info": {
   "codemirror_mode": {
    "name": "ipython",
    "version": 3
   },
   "file_extension": ".py",
   "mimetype": "text/x-python",
   "name": "python",
   "nbconvert_exporter": "python",
   "pygments_lexer": "ipython3",
   "version": "3.9.7"
  }
 },
 "nbformat": 4,
 "nbformat_minor": 5
}
