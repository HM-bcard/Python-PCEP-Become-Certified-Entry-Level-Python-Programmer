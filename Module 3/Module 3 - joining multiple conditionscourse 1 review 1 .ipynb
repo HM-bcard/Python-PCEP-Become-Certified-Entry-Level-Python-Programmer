{
 "cells": [
  {
   "cell_type": "code",
   "execution_count": 4,
   "id": "799d8124",
   "metadata": {},
   "outputs": [
    {
     "name": "stdout",
     "output_type": "stream",
     "text": [
      "What is your age? 11\n",
      "What is your country? 11\n",
      "Sorry Sir\n"
     ]
    }
   ],
   "source": [
    "user_age = int(input('What is your age? '))\n",
    "user_country = input('What is your country? ')\n",
    "if user_age >25 and user_country == 'Poland' or user_age > 30 and user_country == 'Germany':\n",
    "    print('You cheeky bastard!')\n",
    "else:\n",
    "    print('Sorry Sir')"
   ]
  },
  {
   "cell_type": "code",
   "execution_count": null,
   "id": "ea95377f",
   "metadata": {},
   "outputs": [],
   "source": []
  }
 ],
 "metadata": {
  "kernelspec": {
   "display_name": "Python 3 (ipykernel)",
   "language": "python",
   "name": "python3"
  },
  "language_info": {
   "codemirror_mode": {
    "name": "ipython",
    "version": 3
   },
   "file_extension": ".py",
   "mimetype": "text/x-python",
   "name": "python",
   "nbconvert_exporter": "python",
   "pygments_lexer": "ipython3",
   "version": "3.9.7"
  }
 },
 "nbformat": 4,
 "nbformat_minor": 5
}
