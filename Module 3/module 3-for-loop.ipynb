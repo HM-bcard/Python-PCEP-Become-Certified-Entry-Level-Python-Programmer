{
 "cells": [
  {
   "cell_type": "code",
   "execution_count": 1,
   "id": "1be4ac16",
   "metadata": {},
   "outputs": [
    {
     "data": {
      "text/plain": [
       "'hello!'"
      ]
     },
     "execution_count": 1,
     "metadata": {},
     "output_type": "execute_result"
    }
   ],
   "source": [
    "'hello!'\n"
   ]
  },
  {
   "cell_type": "code",
   "execution_count": 2,
   "id": "9f12b9a8",
   "metadata": {},
   "outputs": [
    {
     "name": "stdout",
     "output_type": "stream",
     "text": [
      "Current letter: h\n",
      "Current letter: e\n",
      "Current letter: l\n",
      "Current letter: l\n",
      "Current letter: o\n",
      "Current letter: !\n"
     ]
    }
   ],
   "source": [
    "for letter in 'hello!':\n",
    "    print('Current letter:', letter)"
   ]
  },
  {
   "cell_type": "code",
   "execution_count": 3,
   "id": "185b2b79",
   "metadata": {},
   "outputs": [
    {
     "name": "stdout",
     "output_type": "stream",
     "text": [
      "1\n",
      "2\n",
      "3\n",
      "4\n",
      "5\n",
      "6\n",
      "7\n",
      "8\n",
      "9\n",
      "10\n",
      "Finished!\n"
     ]
    }
   ],
   "source": [
    "counter = 1\n",
    "while counter < 11:\n",
    "    print(counter)\n",
    "    counter += 1\n",
    "print('Finished!')"
   ]
  },
  {
   "cell_type": "code",
   "execution_count": 5,
   "id": "23293148",
   "metadata": {},
   "outputs": [
    {
     "name": "stdout",
     "output_type": "stream",
     "text": [
      "1\n",
      "2\n",
      "3\n",
      "4\n",
      "5\n",
      "6\n",
      "7\n",
      "8\n",
      "9\n",
      "10\n",
      "Finished!\n"
     ]
    }
   ],
   "source": [
    "for counter in range(1,11):\n",
    "    print(counter)\n",
    "print('Finished!')"
   ]
  },
  {
   "cell_type": "code",
   "execution_count": 6,
   "id": "a529642a",
   "metadata": {},
   "outputs": [
    {
     "name": "stdout",
     "output_type": "stream",
     "text": [
      "0\n",
      "1\n",
      "2\n",
      "3\n",
      "4\n",
      "5\n",
      "6\n",
      "7\n",
      "8\n",
      "9\n",
      "10\n",
      "Finished!\n"
     ]
    }
   ],
   "source": [
    "for counter in range(11):\n",
    "    print(counter)\n",
    "print('Finished!')"
   ]
  },
  {
   "cell_type": "code",
   "execution_count": 1,
   "id": "7db6d135",
   "metadata": {},
   "outputs": [
    {
     "name": "stdout",
     "output_type": "stream",
     "text": [
      "1\n",
      "3\n",
      "5\n",
      "7\n",
      "9\n",
      "Finished!\n"
     ]
    }
   ],
   "source": [
    "for counter in range(1,11,2):\n",
    "    print(counter)\n",
    "    \n",
    "print('Finished!')"
   ]
  },
  {
   "cell_type": "code",
   "execution_count": 2,
   "id": "d09189a3",
   "metadata": {},
   "outputs": [
    {
     "name": "stdout",
     "output_type": "stream",
     "text": [
      "1-2-3-5-6-7-9-10-11-"
     ]
    }
   ],
   "source": [
    "for i in range(1,12):\n",
    "    if i % 4 ==0:\n",
    "        continue\n",
    "    print(i, end='-')"
   ]
  },
  {
   "cell_type": "code",
   "execution_count": null,
   "id": "06dbfbcd",
   "metadata": {},
   "outputs": [],
   "source": []
  }
 ],
 "metadata": {
  "kernelspec": {
   "display_name": "Python 3 (ipykernel)",
   "language": "python",
   "name": "python3"
  },
  "language_info": {
   "codemirror_mode": {
    "name": "ipython",
    "version": 3
   },
   "file_extension": ".py",
   "mimetype": "text/x-python",
   "name": "python",
   "nbconvert_exporter": "python",
   "pygments_lexer": "ipython3",
   "version": "3.9.7"
  }
 },
 "nbformat": 4,
 "nbformat_minor": 5
}
