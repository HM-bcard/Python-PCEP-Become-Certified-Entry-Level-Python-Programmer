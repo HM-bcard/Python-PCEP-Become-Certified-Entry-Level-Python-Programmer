{
 "cells": [
  {
   "cell_type": "code",
   "execution_count": 1,
   "id": "6d40975f",
   "metadata": {},
   "outputs": [
    {
     "name": "stdout",
     "output_type": "stream",
     "text": [
      "Current letter: h\n",
      "Current letter: e\n",
      "Current letter: l\n",
      "Current letter: l\n",
      "Current letter: o\n",
      "Current letter: !\n"
     ]
    }
   ],
   "source": [
    "for letter in 'hello!':\n",
    "    print('Current letter:', letter)"
   ]
  },
  {
   "cell_type": "code",
   "execution_count": 2,
   "id": "a7180d27",
   "metadata": {},
   "outputs": [
    {
     "name": "stdout",
     "output_type": "stream",
     "text": [
      "1\n",
      "2\n",
      "3\n",
      "4\n",
      "5\n",
      "6\n",
      "7\n",
      "8\n",
      "9\n",
      "10\n",
      "Finished\n"
     ]
    }
   ],
   "source": [
    "for counter in range(1,11):\n",
    "    print(counter)\n",
    "print('Finished')"
   ]
  },
  {
   "cell_type": "code",
   "execution_count": 3,
   "id": "feb43c83",
   "metadata": {},
   "outputs": [
    {
     "name": "stdout",
     "output_type": "stream",
     "text": [
      "0\n",
      "1\n",
      "2\n",
      "3\n",
      "4\n",
      "5\n",
      "6\n",
      "7\n",
      "8\n",
      "9\n",
      "10\n",
      "Finished\n"
     ]
    }
   ],
   "source": [
    "for counter in range(11):\n",
    "    print(counter)\n",
    "print('Finished')"
   ]
  },
  {
   "cell_type": "code",
   "execution_count": 4,
   "id": "17555d9a",
   "metadata": {},
   "outputs": [
    {
     "name": "stdout",
     "output_type": "stream",
     "text": [
      "0\n",
      "1\n",
      "2\n",
      "3\n",
      "4\n",
      "5\n",
      "6\n",
      "7\n",
      "8\n",
      "9\n",
      "Finished\n"
     ]
    }
   ],
   "source": [
    "for counter in range(10):\n",
    "    print(counter)\n",
    "print('Finished')"
   ]
  },
  {
   "cell_type": "code",
   "execution_count": 7,
   "id": "fbc7ef02",
   "metadata": {},
   "outputs": [
    {
     "name": "stdout",
     "output_type": "stream",
     "text": [
      "1\n",
      "4\n",
      "7\n",
      "Finished\n"
     ]
    }
   ],
   "source": [
    "for counter in range(1,10,3):\n",
    "    print(counter)\n",
    "print('Finished')"
   ]
  },
  {
   "cell_type": "code",
   "execution_count": null,
   "id": "011cd0a6",
   "metadata": {},
   "outputs": [],
   "source": []
  }
 ],
 "metadata": {
  "kernelspec": {
   "display_name": "Python 3 (ipykernel)",
   "language": "python",
   "name": "python3"
  },
  "language_info": {
   "codemirror_mode": {
    "name": "ipython",
    "version": 3
   },
   "file_extension": ".py",
   "mimetype": "text/x-python",
   "name": "python",
   "nbconvert_exporter": "python",
   "pygments_lexer": "ipython3",
   "version": "3.9.7"
  }
 },
 "nbformat": 4,
 "nbformat_minor": 5
}
