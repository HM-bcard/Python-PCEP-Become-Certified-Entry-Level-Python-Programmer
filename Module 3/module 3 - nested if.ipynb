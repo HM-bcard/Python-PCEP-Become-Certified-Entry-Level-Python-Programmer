{
 "cells": [
  {
   "cell_type": "code",
   "execution_count": 2,
   "id": "cce0583a",
   "metadata": {},
   "outputs": [
    {
     "name": "stdout",
     "output_type": "stream",
     "text": [
      "Do you like travelling? y/n: y\n",
      "Why did you answer that? y/ny\n",
      "Cause it's true\n"
     ]
    }
   ],
   "source": [
    "answer_a = input('Do you like travelling? y/n: ')\n",
    "if answer_a == 'y':\n",
    "    answer_b = input('Why did you answer that? y/n')\n",
    "    if answer_b == 'y':\n",
    "        print('Cause it\\'s true')\n",
    "    else:\n",
    "        print('Liar')\n",
    "else:\n",
    "    print('So why have you come here?')"
   ]
  }
 ],
 "metadata": {
  "kernelspec": {
   "display_name": "Python 3 (ipykernel)",
   "language": "python",
   "name": "python3"
  },
  "language_info": {
   "codemirror_mode": {
    "name": "ipython",
    "version": 3
   },
   "file_extension": ".py",
   "mimetype": "text/x-python",
   "name": "python",
   "nbconvert_exporter": "python",
   "pygments_lexer": "ipython3",
   "version": "3.9.7"
  }
 },
 "nbformat": 4,
 "nbformat_minor": 5
}
