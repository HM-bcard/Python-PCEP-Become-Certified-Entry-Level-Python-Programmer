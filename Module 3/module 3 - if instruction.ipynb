{
 "cells": [
  {
   "cell_type": "code",
   "execution_count": 1,
   "id": "41b7b150",
   "metadata": {},
   "outputs": [
    {
     "name": "stdout",
     "output_type": "stream",
     "text": [
      "What is your age?19\n"
     ]
    }
   ],
   "source": [
    "user_age = int(input('What is your age?'))\n",
    "if user_age > 30:\n",
    "    print('You are over 30 years old')"
   ]
  },
  {
   "cell_type": "code",
   "execution_count": 2,
   "id": "e7ed106b",
   "metadata": {},
   "outputs": [
    {
     "name": "stdout",
     "output_type": "stream",
     "text": [
      "What is your age?30\n"
     ]
    }
   ],
   "source": [
    "user_age = int(input('What is your age?'))\n",
    "if user_age > 30:\n",
    "    print('You are over 30 years old')"
   ]
  },
  {
   "cell_type": "code",
   "execution_count": 3,
   "id": "a6932b93",
   "metadata": {},
   "outputs": [
    {
     "name": "stdout",
     "output_type": "stream",
     "text": [
      "What is your age?31\n",
      "You are over 30 years old\n"
     ]
    }
   ],
   "source": [
    "user_age = int(input('What is your age?'))\n",
    "if user_age > 30:\n",
    "    print('You are over 30 years old')\n",
    "    "
   ]
  },
  {
   "cell_type": "code",
   "execution_count": 4,
   "id": "9e51bfc7",
   "metadata": {},
   "outputs": [],
   "source": [
    "# indent of more than 4 spaces"
   ]
  },
  {
   "cell_type": "code",
   "execution_count": 5,
   "id": "f1e4ba46",
   "metadata": {},
   "outputs": [
    {
     "name": "stdout",
     "output_type": "stream",
     "text": [
      "What is your age?31\n",
      "You are over 30 years old\n",
      "Sorry, you do not qualify\n"
     ]
    }
   ],
   "source": [
    "user_age = int(input('What is your age?'))\n",
    "if user_age > 30:\n",
    "    print('You are over 30 years old')\n",
    "    print('Sorry, you do not qualify')"
   ]
  },
  {
   "cell_type": "code",
   "execution_count": 6,
   "id": "47aa9f6a",
   "metadata": {},
   "outputs": [
    {
     "name": "stdout",
     "output_type": "stream",
     "text": [
      "What is your age?31\n",
      "You are over 30 years old\n",
      "Sorry, you do not qualify\n"
     ]
    }
   ],
   "source": [
    "user_age = int(input('What is your age?'))\n",
    "if user_age > 30:\n",
    "    print('You are over 30 years old')\n",
    "print('Sorry, you do not qualify')"
   ]
  },
  {
   "cell_type": "code",
   "execution_count": 7,
   "id": "c050ee44",
   "metadata": {},
   "outputs": [
    {
     "name": "stdout",
     "output_type": "stream",
     "text": [
      "What is your age?24\n",
      "Sorry, you do not qualify\n"
     ]
    }
   ],
   "source": [
    "user_age = int(input('What is your age?'))\n",
    "if user_age > 30:\n",
    "    print('You are over 30 years old')\n",
    "print('Sorry, you do not qualify')"
   ]
  },
  {
   "cell_type": "code",
   "execution_count": 9,
   "id": "287aa93b",
   "metadata": {},
   "outputs": [
    {
     "name": "stdout",
     "output_type": "stream",
     "text": [
      "What is your age?35\n",
      "You are over 30 years old\n",
      "Sorry, you do not qualify\n"
     ]
    }
   ],
   "source": [
    "user_age = int(input('What is your age?'))\n",
    "if user_age > 30:\n",
    "    print('You are over 30 years old')\n",
    "    print('Sorry, you do not qualify')\n",
    "else:\n",
    "    print('You are 30 years old or younger')\n",
    "    print('Congratiulations, you qualify!')"
   ]
  },
  {
   "cell_type": "code",
   "execution_count": 10,
   "id": "78178352",
   "metadata": {},
   "outputs": [
    {
     "name": "stdout",
     "output_type": "stream",
     "text": [
      "What is your age?30\n",
      "You are exactly 30 years old\n",
      "You will need to meet additional conditions to qualify\n"
     ]
    }
   ],
   "source": [
    "user_age = int(input('What is your age?'))\n",
    "if user_age > 30:\n",
    "    print('You are over 30 years old')\n",
    "    print('Sorry, you do not qualify')\n",
    "elif user_age == 30:\n",
    "    print('You are exactly 30 years old')\n",
    "    print('You will need to meet additional conditions to qualify')\n",
    "    \n",
    "else:\n",
    "    print('You are 30 years old or younger')\n",
    "    print('Congratiulations, you qualify!')"
   ]
  },
  {
   "cell_type": "code",
   "execution_count": 11,
   "id": "eaade334",
   "metadata": {},
   "outputs": [
    {
     "ename": "SyntaxError",
     "evalue": "invalid syntax (Temp/ipykernel_36772/2883865562.py, line 5)",
     "output_type": "error",
     "traceback": [
      "\u001b[1;36m  File \u001b[1;32m\"C:\\Users\\Nouser\\AppData\\Local\\Temp/ipykernel_36772/2883865562.py\"\u001b[1;36m, line \u001b[1;32m5\u001b[0m\n\u001b[1;33m    else if user_age == 30:\u001b[0m\n\u001b[1;37m         ^\u001b[0m\n\u001b[1;31mSyntaxError\u001b[0m\u001b[1;31m:\u001b[0m invalid syntax\n"
     ]
    }
   ],
   "source": [
    "user_age = int(input('What is your age?'))\n",
    "if user_age > 30:\n",
    "    print('You are over 30 years old')\n",
    "    print('Sorry, you do not qualify')\n",
    "else if user_age == 30:\n",
    "    print('You are exactly 30 years old')\n",
    "    print('You will need to meet additional conditions to qualify')\n",
    "    \n",
    "else:\n",
    "    print('You are 30 years old or younger')\n",
    "    print('Congratiulations, you qualify!')"
   ]
  },
  {
   "cell_type": "code",
   "execution_count": 12,
   "id": "c1f20439",
   "metadata": {},
   "outputs": [
    {
     "ename": "SyntaxError",
     "evalue": "invalid syntax (Temp/ipykernel_36772/1070067604.py, line 5)",
     "output_type": "error",
     "traceback": [
      "\u001b[1;36m  File \u001b[1;32m\"C:\\Users\\Nouser\\AppData\\Local\\Temp/ipykernel_36772/1070067604.py\"\u001b[1;36m, line \u001b[1;32m5\u001b[0m\n\u001b[1;33m    else user_age == 30:\u001b[0m\n\u001b[1;37m         ^\u001b[0m\n\u001b[1;31mSyntaxError\u001b[0m\u001b[1;31m:\u001b[0m invalid syntax\n"
     ]
    }
   ],
   "source": [
    "user_age = int(input('What is your age?'))\n",
    "if user_age > 30:\n",
    "    print('You are over 30 years old')\n",
    "    print('Sorry, you do not qualify')\n",
    "else user_age == 30:\n",
    "    print('You are exactly 30 years old')\n",
    "    print('You will need to meet additional conditions to qualify')\n",
    "    \n",
    "else:\n",
    "    print('You are 30 years old or younger')\n",
    "    print('Congratiulations, you qualify!')"
   ]
  },
  {
   "cell_type": "code",
   "execution_count": 13,
   "id": "a04a79a9",
   "metadata": {},
   "outputs": [
    {
     "ename": "SyntaxError",
     "evalue": "invalid syntax (Temp/ipykernel_36772/1338880452.py, line 5)",
     "output_type": "error",
     "traceback": [
      "\u001b[1;36m  File \u001b[1;32m\"C:\\Users\\Nouser\\AppData\\Local\\Temp/ipykernel_36772/1338880452.py\"\u001b[1;36m, line \u001b[1;32m5\u001b[0m\n\u001b[1;33m    if else user_age == 30:\u001b[0m\n\u001b[1;37m       ^\u001b[0m\n\u001b[1;31mSyntaxError\u001b[0m\u001b[1;31m:\u001b[0m invalid syntax\n"
     ]
    }
   ],
   "source": [
    "user_age = int(input('What is your age?'))\n",
    "if user_age > 30:\n",
    "    print('You are over 30 years old')\n",
    "    print('Sorry, you do not qualify')\n",
    "if else user_age == 30:\n",
    "    print('You are exactly 30 years old')\n",
    "    print('You will need to meet additional conditions to qualify')\n",
    "    \n",
    "else:\n",
    "    print('You are 30 years old or younger')\n",
    "    print('Congratiulations, you qualify!')"
   ]
  },
  {
   "cell_type": "code",
   "execution_count": 14,
   "id": "0547c522",
   "metadata": {},
   "outputs": [
    {
     "name": "stdout",
     "output_type": "stream",
     "text": [
      "What is your age?30\n",
      "You are exactly 30 years old\n",
      "You will need to meet additional conditions to qualify\n"
     ]
    }
   ],
   "source": [
    "user_age = int(input('What is your age?'))\n",
    "if user_age > 30:\n",
    "    print('You are over 30 years old')\n",
    "    print('Sorry, you do not qualify')\n",
    "if user_age == 30:\n",
    "    print('You are exactly 30 years old')\n",
    "    print('You will need to meet additional conditions to qualify')\n",
    "    \n",
    "else:\n",
    "    print('You are 30 years old or younger')\n",
    "    print('Congratiulations, you qualify!')"
   ]
  },
  {
   "cell_type": "code",
   "execution_count": 15,
   "id": "e60f03ab",
   "metadata": {},
   "outputs": [
    {
     "name": "stdout",
     "output_type": "stream",
     "text": [
      "What is your age?19\n",
      "You are 30 years old or younger\n",
      "Congratiulations, you qualify!\n"
     ]
    }
   ],
   "source": [
    "user_age = int(input('What is your age?'))\n",
    "if user_age > 30:\n",
    "    print('You are over 30 years old')\n",
    "    print('Sorry, you do not qualify')\n",
    "if user_age == 30: # logical operators \n",
    "    print('You are exactly 30 years old')\n",
    "    print('You will need to meet additional conditions to qualify')\n",
    "    \n",
    "else:\n",
    "    print('You are 30 years old or younger')\n",
    "    print('Congratiulations, you qualify!')"
   ]
  },
  {
   "cell_type": "code",
   "execution_count": 16,
   "id": "4ee3aa6b",
   "metadata": {},
   "outputs": [
    {
     "name": "stdout",
     "output_type": "stream",
     "text": [
      "What is your age?31\n",
      "You are over 30 years old\n",
      "Sorry, you do not qualify\n",
      "You are 30 years old or younger\n",
      "Congratiulations, you qualify!\n"
     ]
    }
   ],
   "source": [
    "user_age = int(input('What is your age?'))\n",
    "if user_age > 30:\n",
    "    print('You are over 30 years old')\n",
    "    print('Sorry, you do not qualify')\n",
    "if user_age == 30:\n",
    "    print('You are exactly 30 years old')\n",
    "    print('You will need to meet additional conditions to qualify')\n",
    "    \n",
    "else:\n",
    "    print('You are 30 years old or younger')\n",
    "    print('Congratiulations, you qualify!')"
   ]
  },
  {
   "cell_type": "code",
   "execution_count": 17,
   "id": "712ae9e0",
   "metadata": {},
   "outputs": [
    {
     "name": "stdout",
     "output_type": "stream",
     "text": [
      "What is your age?31\n",
      "You are over 30 years old\n",
      "Sorry, you do not qualify\n"
     ]
    }
   ],
   "source": [
    "user_age = int(input('What is your age?'))\n",
    "if user_age > 30:\n",
    "    print('You are over 30 years old')\n",
    "    print('Sorry, you do not qualify')\n",
    "elif user_age == 30:\n",
    "    print('You are exactly 30 years old')\n",
    "    print('You will need to meet additional conditions to qualify')\n",
    "    \n",
    "else:\n",
    "    print('You are 30 years old or younger')\n",
    "    print('Congratiulations, you qualify!')"
   ]
  },
  {
   "cell_type": "code",
   "execution_count": null,
   "id": "6805b37e",
   "metadata": {},
   "outputs": [],
   "source": [
    "if condition_a_met:\n",
    "    do_scenario_a()\n",
    "elif condition_b_met:\n",
    "    do_scenario_b()\n",
    "elif condition_c_met:\n",
    "    do_scenario_c()\n",
    "else:\n",
    "    do_scenario_d()"
   ]
  }
 ],
 "metadata": {
  "kernelspec": {
   "display_name": "Python 3 (ipykernel)",
   "language": "python",
   "name": "python3"
  },
  "language_info": {
   "codemirror_mode": {
    "name": "ipython",
    "version": 3
   },
   "file_extension": ".py",
   "mimetype": "text/x-python",
   "name": "python",
   "nbconvert_exporter": "python",
   "pygments_lexer": "ipython3",
   "version": "3.9.7"
  }
 },
 "nbformat": 4,
 "nbformat_minor": 5
}
