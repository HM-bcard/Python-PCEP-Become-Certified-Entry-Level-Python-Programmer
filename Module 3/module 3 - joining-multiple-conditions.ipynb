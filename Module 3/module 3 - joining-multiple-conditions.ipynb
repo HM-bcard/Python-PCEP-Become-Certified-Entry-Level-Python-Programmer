{
 "cells": [
  {
   "cell_type": "code",
   "execution_count": 2,
   "id": "9e9e614a",
   "metadata": {},
   "outputs": [
    {
     "name": "stdout",
     "output_type": "stream",
     "text": [
      "What is your age? 26\n",
      "What is your country? Germany\n",
      "Sorry, you do not qualify\n"
     ]
    }
   ],
   "source": [
    "user_age = int(input('What is your age? '))\n",
    "user_country = input('What is your country? ')\n",
    "\n",
    "if user_age < 25 and user_country == 'Germany':\n",
    "    print('You can apply for a German student exchange programme')\n",
    "else:\n",
    "        print('Sorry, you do not qualify')"
   ]
  },
  {
   "cell_type": "code",
   "execution_count": 3,
   "id": "5d5e98fd",
   "metadata": {},
   "outputs": [
    {
     "name": "stdout",
     "output_type": "stream",
     "text": [
      "What is your age? 25\n",
      "What is your country? Ru\n",
      "Sorry, you do not qualify\n"
     ]
    }
   ],
   "source": [
    "user_age = int(input('What is your age? '))\n",
    "user_country = input('What is your country? ')\n",
    "\n",
    "if user_age < 25 or user_country == 'Germany':\n",
    "    print('You can apply for a German student exchange programme')\n",
    "else:\n",
    "        print('Sorry, you do not qualify')"
   ]
  },
  {
   "cell_type": "code",
   "execution_count": 1,
   "id": "6dfd3df3",
   "metadata": {},
   "outputs": [
    {
     "name": "stdout",
     "output_type": "stream",
     "text": [
      "What is your country? US\n",
      "Sorry, you do not qualify\n"
     ]
    }
   ],
   "source": [
    "user_country = input('What is your country? ')\n",
    "\n",
    "if user_country == 'Germany' or user_country == 'Denmark' or user_country == 'Norway':\n",
    "    print('You can apply for a Scandinavian student exchange programme')\n",
    "else:\n",
    "        print('Sorry, you do not qualify')"
   ]
  },
  {
   "cell_type": "code",
   "execution_count": 2,
   "id": "caea3117",
   "metadata": {},
   "outputs": [
    {
     "name": "stdout",
     "output_type": "stream",
     "text": [
      "What is your country? Norway\n",
      "You can apply for a Scandinavian student exchange programme\n"
     ]
    }
   ],
   "source": [
    "user_country = input('What is your country? ')\n",
    "\n",
    "if user_country == 'Germany' or user_country == 'Denmark' or user_country == 'Norway':\n",
    "    print('You can apply for a Scandinavian student exchange programme')\n",
    "else:\n",
    "        print('Sorry, you do not qualify')"
   ]
  },
  {
   "cell_type": "code",
   "execution_count": 6,
   "id": "913d4441",
   "metadata": {},
   "outputs": [
    {
     "name": "stdout",
     "output_type": "stream",
     "text": [
      "Where do you come from? Us\n",
      "you are not from Germany!\n"
     ]
    }
   ],
   "source": [
    "user_country = input('Where do you come from? ')\n",
    "if not user_country == 'Germany':\n",
    "    print('you are not from Germany!')\n",
    "else:\n",
    "    print('you are from Germany')\n",
    "    "
   ]
  },
  {
   "cell_type": "code",
   "execution_count": null,
   "id": "d43acaad",
   "metadata": {},
   "outputs": [],
   "source": [
    "user_age = int(input('What is your age? '))\n",
    "user_country = input('What is your contry? ' )\n",
    "\n",
    "if not user_country == 'Germany' and user_age < 25 or \\\n",
    "    user_country == 'Germany' and user_age < 23:\n",
    "    print('You qualify!')\n",
    "else:\n",
    "    print('You don\\'t qualify!')\n",
    "    "
   ]
  },
  {
   "cell_type": "code",
   "execution_count": null,
   "id": "6cbba2ae",
   "metadata": {},
   "outputs": [],
   "source": [
    "user_age = int(input('What is your age? '))\n",
    "user_country = input('What is your contry? ' )\n",
    "\n",
    "if not user_country == 'Germany' and user_age < 25 or \\\n",
    "    user_country == 'Germany' and user_age < 23:\n",
    "    print('You qualify!')\n",
    "else:\n",
    "    print('You don\\'t qualify!')"
   ]
  },
  {
   "cell_type": "code",
   "execution_count": 1,
   "id": "98e4d74d",
   "metadata": {},
   "outputs": [
    {
     "name": "stdout",
     "output_type": "stream",
     "text": [
      "What is your age? 21\n",
      "What is your contry? US\n",
      "You qualify!\n"
     ]
    }
   ],
   "source": [
    "user_age = int(input('What is your age? '))\n",
    "user_country = input('What is your country? ' )\n",
    "\n",
    "if not user_country == 'Germany' and user_age < 25 or \\\n",
    "    user_country == 'Germany' and user_age < 23:\n",
    "    print('You qualify!')\n",
    "else:\n",
    "    print('You don\\'t qualify!')"
   ]
  },
  {
   "cell_type": "code",
   "execution_count": 2,
   "id": "7c09167c",
   "metadata": {},
   "outputs": [],
   "source": [
    "# 1. not\n",
    "# 2. and\n",
    "# 3. or\n",
    "\n",
    "\n"
   ]
  },
  {
   "cell_type": "code",
   "execution_count": null,
   "id": "7a8fc79a",
   "metadata": {},
   "outputs": [],
   "source": [
    "user_age = int(input('What is your age? '))\n",
    "user_country = input('What is your country? ' )\n",
    "\n",
    "if ((not user_country == 'Germany') and user_age) < 25 or \\\n",
    "    (user_country == 'Germany' and user_age < 23):\n",
    "    print('You qualify!')\n",
    "else:\n",
    "    print('You don\\'t qualify!')"
   ]
  },
  {
   "cell_type": "code",
   "execution_count": null,
   "id": "2191d18e",
   "metadata": {},
   "outputs": [],
   "source": []
  }
 ],
 "metadata": {
  "kernelspec": {
   "display_name": "Python 3 (ipykernel)",
   "language": "python",
   "name": "python3"
  },
  "language_info": {
   "codemirror_mode": {
    "name": "ipython",
    "version": 3
   },
   "file_extension": ".py",
   "mimetype": "text/x-python",
   "name": "python",
   "nbconvert_exporter": "python",
   "pygments_lexer": "ipython3",
   "version": "3.9.7"
  }
 },
 "nbformat": 4,
 "nbformat_minor": 5
}
