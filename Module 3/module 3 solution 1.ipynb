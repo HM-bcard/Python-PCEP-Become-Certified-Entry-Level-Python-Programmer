{
 "cells": [
  {
   "cell_type": "code",
   "execution_count": null,
   "id": "0372ee25",
   "metadata": {},
   "outputs": [],
   "source": [
    "days_after_sale = int(input('How many days ago have you purchased the item? '))\n",
    "\n",
    "if days_after_sale <= 10:\n",
    "    item_state_of_use = input('Have you used the item at all?[y/n] ')\n",
    "    if item_state_of_use == 'y':\n",
    "        item_condition = input('Has the item broken down on its own [y/n]? ')\n",
    "        if item_condition == 'y':\n",
    "            print('You can get a refund.')\n",
    "        else:\n",
    "            print('You can\\'t get a refund.')\n",
    "        print\n",
    "    else:\n",
    "        print('You can\\'t get a refund.')\n",
    "else:\n",
    "    print('You can\\'t get a refund.')"
   ]
  },
  {
   "cell_type": "code",
   "execution_count": null,
   "id": "fec91bce",
   "metadata": {},
   "outputs": [],
   "source": [
    "days_after_sale = int(input('How many days ago have you purchased the item? '))\n",
    "\n",
    "if days_after_sale >= 10:\n",
    "    item_state_of_use = input('Have you used the item at all?[y/n] ')\n",
    "    if item_state_of_use == 'y':\n",
    "        item_condition = input('Has the item broken down on its own [y/n]? ')\n",
    "        if item_condition == 'y':\n",
    "            print('You can get a refund.')\n",
    "        else:\n",
    "            print('You cannot get a refund.')\n",
    "        \n",
    "    else:\n",
    "        print('You can get a refund.')\n",
    "else:\n",
    "    print('You cannot get a refund.')\n",
    "    "
   ]
  },
  {
   "cell_type": "code",
   "execution_count": null,
   "id": "024965be",
   "metadata": {},
   "outputs": [],
   "source": [
    "item_condition = input('Has the item broken down on its own [y/n]? ')\n",
    "\n",
    "if item_condition = 'n':\n",
    "    item_state_of_use: input('Have you used the item at all?')\n",
    "        \n",
    "    "
   ]
  },
  {
   "cell_type": "code",
   "execution_count": null,
   "id": "6f50ef61",
   "metadata": {},
   "outputs": [],
   "source": [
    "days_after_sale = int(input('How many days ago have you purchased the item? '))\n",
    "item_state_of_use = input('Have you used the item at all?[y/n] ')\n",
    "if days_after_sale >= 10 and item_state_of_use == 'y':\n",
    "    item_condition = input('Has the item broken down on its own [y/n]? ')\n",
    "    if item_condition == 'y':\n",
    "            print('You can get a refund.')\n",
    "    else:\n",
    "            print('You cannot get a refund.')\n",
    "else:\n",
    "    print('You can get a refund.')\n",
    "    "
   ]
  },
  {
   "cell_type": "code",
   "execution_count": null,
   "id": "679437ad",
   "metadata": {},
   "outputs": [],
   "source": []
  }
 ],
 "metadata": {
  "kernelspec": {
   "display_name": "Python 3 (ipykernel)",
   "language": "python",
   "name": "python3"
  },
  "language_info": {
   "codemirror_mode": {
    "name": "ipython",
    "version": 3
   },
   "file_extension": ".py",
   "mimetype": "text/x-python",
   "name": "python",
   "nbconvert_exporter": "python",
   "pygments_lexer": "ipython3",
   "version": "3.9.7"
  }
 },
 "nbformat": 4,
 "nbformat_minor": 5
}
