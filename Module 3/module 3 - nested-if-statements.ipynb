{
 "cells": [
  {
   "cell_type": "code",
   "execution_count": 3,
   "id": "2cbe6899",
   "metadata": {},
   "outputs": [
    {
     "name": "stdout",
     "output_type": "stream",
     "text": [
      "Do you like travelling y/n: y\n",
      "And do you like Asia? y/n: y\n",
      "Excellent!You can win a ticket to Thailand!\n"
     ]
    }
   ],
   "source": [
    "answer_a = input('Do you like travelling y/n: ')\n",
    "if answer_a == 'y':\n",
    "    answer_b = input('And do you like Asia? y/n: ')\n",
    "    if answer_b == 'y':\n",
    "        print('Excellent! You can win a ticket to Thailand!')\n",
    "    else:\n",
    "        print('Sorry to hear that!')\n",
    "else:\n",
    "    print('Sorry to hear that!')"
   ]
  },
  {
   "cell_type": "code",
   "execution_count": 11,
   "id": "96783285",
   "metadata": {},
   "outputs": [
    {
     "name": "stdout",
     "output_type": "stream",
     "text": [
      "How many days ago have you purchased the item? 11\n",
      "You can't get a refund.\n"
     ]
    }
   ],
   "source": [
    "days_after_sale = int(input('How many days ago have you purchased the item? '))\n",
    "\n",
    "if days_after_sale <= 10:\n",
    "    item_state_of_use = input('Have you used the item at all?[y/n] ')\n",
    "    if item_state_of_use == 'y':\n",
    "        item_condition = input('Has the item broken down on its own [y/n]? ')\n",
    "        if item_condition == 'y':\n",
    "            print('You can get a refund.')\n",
    "        else:\n",
    "            print('You can\\'t get a refund.')\n",
    "        print\n",
    "    else:\n",
    "        print('You can\\'t get a refund.')\n",
    "else:\n",
    "    print('You can\\'t get a refund.')"
   ]
  },
  {
   "cell_type": "code",
   "execution_count": 39,
   "id": "875af128",
   "metadata": {},
   "outputs": [
    {
     "name": "stdout",
     "output_type": "stream",
     "text": [
      "How many days ago have you purchased the item? 11\n",
      "Have you used the item at all?[y/n] n\n",
      "You can get a refund.\n"
     ]
    }
   ],
   "source": [
    "days_after_sale = int(input('How many days ago have you purchased the item? '))\n",
    "\n",
    "if days_after_sale >= 10:\n",
    "    item_state_of_use = input('Have you used the item at all?[y/n] ')\n",
    "    if item_state_of_use == 'y':\n",
    "        item_condition = input('Has the item broken down on its own [y/n]? ')\n",
    "        if item_condition == 'y':\n",
    "            print('You can get a refund.')\n",
    "        else:\n",
    "            print('You cannot get a refund.')\n",
    "        \n",
    "    else:\n",
    "        print('You can get a refund.')\n",
    "else:\n",
    "    print('You cannot get a refund.')"
   ]
  },
  {
   "cell_type": "code",
   "execution_count": null,
   "id": "f9adb23d",
   "metadata": {},
   "outputs": [],
   "source": [
    "item_condition = input('Has the item broken down on its own [y/n]? ')\n",
    "\n",
    "if item_condition = 'n':\n",
    "    item_state_of_use: input('Have you used the item at all?')\n",
    "        \n",
    "    "
   ]
  },
  {
   "cell_type": "code",
   "execution_count": 37,
   "id": "dc5cffd1",
   "metadata": {},
   "outputs": [
    {
     "name": "stdout",
     "output_type": "stream",
     "text": [
      "How many days ago have you purchased the item? 11\n",
      "Have you used the item at all?[y/n] n\n",
      "You can get a refund.\n"
     ]
    }
   ],
   "source": [
    "days_after_sale = int(input('How many days ago have you purchased the item? '))\n",
    "item_state_of_use = input('Have you used the item at all?[y/n] ')\n",
    "if days_after_sale >= 10 and item_state_of_use == 'y':\n",
    "    item_condition = input('Has the item broken down on its own [y/n]? ')\n",
    "    if item_condition == 'y':\n",
    "            print('You can get a refund.')\n",
    "    else:\n",
    "            print('You cannot get a refund.')\n",
    "else:\n",
    "    print('You can get a refund.')"
   ]
  },
  {
   "cell_type": "code",
   "execution_count": null,
   "id": "1657a44e",
   "metadata": {},
   "outputs": [],
   "source": [
    "days_after_sale = int(input('How many days ago have you purchased the item? '))\n",
    "item_state_of_use = input('Have you used the item at all [y/n]? ')\n",
    "item_condition = input('Has the item broken down on its own [y/n]? ')\n",
    "\n",
    "if(item_condition == 'y' or (days_after_sale <= 10 and item_state_of_use == 'n')):\n",
    "    print('You can get a refund.')\n",
    "else:\n",
    "    print('You cannot get a refund.')"
   ]
  },
  {
   "cell_type": "code",
   "execution_count": null,
   "id": "176d2f2c",
   "metadata": {},
   "outputs": [],
   "source": []
  }
 ],
 "metadata": {
  "kernelspec": {
   "display_name": "Python 3 (ipykernel)",
   "language": "python",
   "name": "python3"
  },
  "language_info": {
   "codemirror_mode": {
    "name": "ipython",
    "version": 3
   },
   "file_extension": ".py",
   "mimetype": "text/x-python",
   "name": "python",
   "nbconvert_exporter": "python",
   "pygments_lexer": "ipython3",
   "version": "3.9.7"
  }
 },
 "nbformat": 4,
 "nbformat_minor": 5
}
