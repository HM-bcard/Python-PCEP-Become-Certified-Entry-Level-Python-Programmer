{
 "cells": [
  {
   "cell_type": "code",
   "execution_count": 6,
   "id": "075d620f",
   "metadata": {},
   "outputs": [
    {
     "ename": "SyntaxError",
     "evalue": "unexpected character after line continuation character (Temp/ipykernel_29292/83946828.py, line 1)",
     "output_type": "error",
     "traceback": [
      "\u001b[1;36m  File \u001b[1;32m\"C:\\Users\\Nouser\\AppData\\Local\\Temp/ipykernel_29292/83946828.py\"\u001b[1;36m, line \u001b[1;32m1\u001b[0m\n\u001b[1;33m    user_age = int(input(What\\'s your age? '))\u001b[0m\n\u001b[1;37m                                             ^\u001b[0m\n\u001b[1;31mSyntaxError\u001b[0m\u001b[1;31m:\u001b[0m unexpected character after line continuation character\n"
     ]
    }
   ],
   "source": [
    "user_age = int(input(What\\'s your age? '))\n",
    "\n",
    "if user_age > 30:\n",
    "        print('Over 30')\n"
   ]
  },
  {
   "cell_type": "code",
   "execution_count": 7,
   "id": "2313ebaf",
   "metadata": {},
   "outputs": [
    {
     "ename": "SyntaxError",
     "evalue": "unexpected character after line continuation character (Temp/ipykernel_29292/83946828.py, line 1)",
     "output_type": "error",
     "traceback": [
      "\u001b[1;36m  File \u001b[1;32m\"C:\\Users\\Nouser\\AppData\\Local\\Temp/ipykernel_29292/83946828.py\"\u001b[1;36m, line \u001b[1;32m1\u001b[0m\n\u001b[1;33m    user_age = int(input(What\\'s your age? '))\u001b[0m\n\u001b[1;37m                                             ^\u001b[0m\n\u001b[1;31mSyntaxError\u001b[0m\u001b[1;31m:\u001b[0m unexpected character after line continuation character\n"
     ]
    }
   ],
   "source": [
    "user_age = int(input(What\\'s your age? '))\n",
    "\n",
    "if user_age > 30:\n",
    "        print('Over 30')\n"
   ]
  },
  {
   "cell_type": "code",
   "execution_count": 8,
   "id": "885a9434",
   "metadata": {},
   "outputs": [
    {
     "name": "stdout",
     "output_type": "stream",
     "text": [
      "What is your age? 30\n"
     ]
    }
   ],
   "source": [
    "user_age = int(input('What is your age? '))\n",
    "if user_age > 30:\n",
    "    print('Over 30')"
   ]
  },
  {
   "cell_type": "code",
   "execution_count": 1,
   "id": "41f754eb",
   "metadata": {},
   "outputs": [
    {
     "ename": "SyntaxError",
     "evalue": "unexpected character after line continuation character (Temp/ipykernel_31128/3639497615.py, line 1)",
     "output_type": "error",
     "traceback": [
      "\u001b[1;36m  File \u001b[1;32m\"C:\\Users\\Nouser\\AppData\\Local\\Temp/ipykernel_31128/3639497615.py\"\u001b[1;36m, line \u001b[1;32m1\u001b[0m\n\u001b[1;33m    user_age = int(input(What\\'s your age? '))\u001b[0m\n\u001b[1;37m                                             ^\u001b[0m\n\u001b[1;31mSyntaxError\u001b[0m\u001b[1;31m:\u001b[0m unexpected character after line continuation character\n"
     ]
    }
   ],
   "source": [
    "user_age = int(input(What\\'s your age? '))\n",
    "\n",
    "if user_age > 30:\n",
    "    print('Over 30')\n",
    "elif user_age = 30\n",
    "    print('You\\'re 30)\n",
    "    \n",
    "    \n",
    "       "
   ]
  },
  {
   "cell_type": "code",
   "execution_count": 6,
   "id": "b45cf313",
   "metadata": {},
   "outputs": [
    {
     "name": "stdout",
     "output_type": "stream",
     "text": [
      "What's your age? 25\n",
      "You're less than 30\n"
     ]
    }
   ],
   "source": [
    "user_age = int(input('What\\'s your age? '))\n",
    "\n",
    "if user_age > 30:\n",
    "    print('Over 30')\n",
    "elif user_age == 30:\n",
    "    print('You\\'re 30')\n",
    "else: # else has no condition\n",
    "    print('You\\'re less than 30')"
   ]
  },
  {
   "cell_type": "code",
   "execution_count": null,
   "id": "d12d30a0",
   "metadata": {},
   "outputs": [],
   "source": []
  }
 ],
 "metadata": {
  "kernelspec": {
   "display_name": "Python 3 (ipykernel)",
   "language": "python",
   "name": "python3"
  },
  "language_info": {
   "codemirror_mode": {
    "name": "ipython",
    "version": 3
   },
   "file_extension": ".py",
   "mimetype": "text/x-python",
   "name": "python",
   "nbconvert_exporter": "python",
   "pygments_lexer": "ipython3",
   "version": "3.9.7"
  }
 },
 "nbformat": 4,
 "nbformat_minor": 5
}
