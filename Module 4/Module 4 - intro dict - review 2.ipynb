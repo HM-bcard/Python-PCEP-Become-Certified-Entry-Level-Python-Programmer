{
 "cells": [
  {
   "cell_type": "code",
   "execution_count": 1,
   "id": "ad5a2c75",
   "metadata": {},
   "outputs": [],
   "source": [
    "emails = {\n",
    "    'Anne Stahl': 'email1@email.com',\n",
    "    'Peter Small': 'smalls@biggie.com',\n",
    "    'Marky Mark': 'm&m@cadbury.com'         \n",
    "}\n"
   ]
  },
  {
   "cell_type": "code",
   "execution_count": 2,
   "id": "d95d2422",
   "metadata": {},
   "outputs": [
    {
     "name": "stdout",
     "output_type": "stream",
     "text": [
      "m&m@cadbury.com\n"
     ]
    }
   ],
   "source": [
    "print(emails['Marky Mark'])"
   ]
  },
  {
   "cell_type": "code",
   "execution_count": 3,
   "id": "7753d981",
   "metadata": {},
   "outputs": [],
   "source": [
    "spanish_animals = {\n",
    "    'dog':'el perro',\n",
    "    'car': 'el gato',\n",
    "    'horse': 'e; caballo',\n",
    "    'horse': 'el coarse'\n",
    "}"
   ]
  },
  {
   "cell_type": "code",
   "execution_count": 4,
   "id": "1a8c3106",
   "metadata": {},
   "outputs": [
    {
     "name": "stdout",
     "output_type": "stream",
     "text": [
      "{'dog': 'el perro', 'car': 'el gato', 'horse': 'el coarse'}\n"
     ]
    }
   ],
   "source": [
    "print(spanish_animals)"
   ]
  },
  {
   "cell_type": "code",
   "execution_count": 5,
   "id": "e9849f64",
   "metadata": {},
   "outputs": [],
   "source": [
    "# integers, floats, strings, tuples can be used in dict as keys"
   ]
  },
  {
   "cell_type": "code",
   "execution_count": 6,
   "id": "f340ade8",
   "metadata": {},
   "outputs": [],
   "source": [
    "# all others can be used as values"
   ]
  },
  {
   "cell_type": "code",
   "execution_count": 7,
   "id": "ad9702f5",
   "metadata": {},
   "outputs": [],
   "source": [
    "city_ratings = {\n",
    "    'Bangkok': [7,5,6,8],\n",
    "    'Hanoi': [9,7,9,5],\n",
    "    'Manila': [5,6,8,10]\n",
    "    \n",
    "    \n",
    "}"
   ]
  },
  {
   "cell_type": "code",
   "execution_count": 8,
   "id": "763b025a",
   "metadata": {},
   "outputs": [
    {
     "data": {
      "text/plain": [
       "{'Bangkok': [7, 5, 6, 8], 'Hanoi': [9, 7, 9, 5], 'Manila': [5, 6, 8, 10]}"
      ]
     },
     "execution_count": 8,
     "metadata": {},
     "output_type": "execute_result"
    }
   ],
   "source": [
    "city_ratings"
   ]
  },
  {
   "cell_type": "code",
   "execution_count": 9,
   "id": "41a37b99",
   "metadata": {},
   "outputs": [
    {
     "ename": "KeyError",
     "evalue": "1",
     "output_type": "error",
     "traceback": [
      "\u001b[1;31m---------------------------------------------------------------------------\u001b[0m",
      "\u001b[1;31mKeyError\u001b[0m                                  Traceback (most recent call last)",
      "\u001b[1;32m~\\AppData\\Local\\Temp/ipykernel_42200/1173786524.py\u001b[0m in \u001b[0;36m<module>\u001b[1;34m\u001b[0m\n\u001b[1;32m----> 1\u001b[1;33m \u001b[0mcity_ratings\u001b[0m\u001b[1;33m[\u001b[0m\u001b[1;36m1\u001b[0m\u001b[1;33m]\u001b[0m\u001b[1;33m\u001b[0m\u001b[1;33m\u001b[0m\u001b[0m\n\u001b[0m",
      "\u001b[1;31mKeyError\u001b[0m: 1"
     ]
    }
   ],
   "source": [
    "city_ratings[1]"
   ]
  },
  {
   "cell_type": "code",
   "execution_count": null,
   "id": "d4e8330f",
   "metadata": {},
   "outputs": [],
   "source": [
    "city_ratings[1]"
   ]
  }
 ],
 "metadata": {
  "kernelspec": {
   "display_name": "Python 3 (ipykernel)",
   "language": "python",
   "name": "python3"
  },
  "language_info": {
   "codemirror_mode": {
    "name": "ipython",
    "version": 3
   },
   "file_extension": ".py",
   "mimetype": "text/x-python",
   "name": "python",
   "nbconvert_exporter": "python",
   "pygments_lexer": "ipython3",
   "version": "3.9.7"
  }
 },
 "nbformat": 4,
 "nbformat_minor": 5
}
