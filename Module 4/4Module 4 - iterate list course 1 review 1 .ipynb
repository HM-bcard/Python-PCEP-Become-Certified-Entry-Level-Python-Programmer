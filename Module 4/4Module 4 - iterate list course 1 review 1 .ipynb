{
 "cells": [
  {
   "cell_type": "code",
   "execution_count": 1,
   "id": "67c21654",
   "metadata": {},
   "outputs": [
    {
     "name": "stdout",
     "output_type": "stream",
     "text": [
      "Current city:  Chicago\n",
      "Current city:  New York\n",
      "Current city:  Citi citi\n",
      "Current city:  Cincinatti\n",
      "Current city:  LA\n"
     ]
    }
   ],
   "source": [
    "top_cities = ['Chicago','New York','Citi citi','Cincinatti','LA']\n",
    "for city in top_cities:\n",
    "    print('Current city: ', city)"
   ]
  },
  {
   "cell_type": "code",
   "execution_count": 3,
   "id": "524d7514",
   "metadata": {},
   "outputs": [
    {
     "name": "stdout",
     "output_type": "stream",
     "text": [
      "Current index:  1 |current_city: Chicago\n",
      "Current index:  2 |current_city: New York\n",
      "Current index:  3 |current_city: Citi citi\n",
      "Current index:  4 |current_city: Cincinatti\n",
      "Current index:  5 |current_city: LA\n"
     ]
    }
   ],
   "source": [
    "top_cities = ['Chicago','New York','Citi citi','Cincinatti','LA']\n",
    "for city_index in range(len(top_cities)): \n",
    "    print('Current index: ',city_index+1, '|current_city:', top_cities[city_index], )"
   ]
  },
  {
   "cell_type": "code",
   "execution_count": 1,
   "id": "748e693a",
   "metadata": {},
   "outputs": [],
   "source": [
    "spendings = [12.5, 12.4, 14.5, 18.43, 10.98]"
   ]
  },
  {
   "cell_type": "code",
   "execution_count": 2,
   "id": "9b859624",
   "metadata": {},
   "outputs": [],
   "source": [
    "sum = 0.0\n",
    "for spending in spendings:\n",
    "    sum += spending"
   ]
  },
  {
   "cell_type": "code",
   "execution_count": 3,
   "id": "c3abc308",
   "metadata": {},
   "outputs": [
    {
     "name": "stdout",
     "output_type": "stream",
     "text": [
      "Money spent: 68.81\n"
     ]
    }
   ],
   "source": [
    "print('Money spent:', sum)"
   ]
  },
  {
   "cell_type": "code",
   "execution_count": null,
   "id": "cb4bc181",
   "metadata": {},
   "outputs": [],
   "source": []
  }
 ],
 "metadata": {
  "kernelspec": {
   "display_name": "Python 3 (ipykernel)",
   "language": "python",
   "name": "python3"
  },
  "language_info": {
   "codemirror_mode": {
    "name": "ipython",
    "version": 3
   },
   "file_extension": ".py",
   "mimetype": "text/x-python",
   "name": "python",
   "nbconvert_exporter": "python",
   "pygments_lexer": "ipython3",
   "version": "3.9.7"
  }
 },
 "nbformat": 4,
 "nbformat_minor": 5
}
