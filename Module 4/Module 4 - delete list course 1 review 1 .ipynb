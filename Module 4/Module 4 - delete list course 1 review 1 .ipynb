{
 "cells": [
  {
   "cell_type": "code",
   "execution_count": 1,
   "id": "8088b8e7",
   "metadata": {},
   "outputs": [],
   "source": [
    "top_cities = ['Chicago','New York','Citi citi','Cincinatti','LA']"
   ]
  },
  {
   "cell_type": "code",
   "execution_count": 2,
   "id": "f79c7a80",
   "metadata": {},
   "outputs": [],
   "source": [
    "del top_cities[2]"
   ]
  },
  {
   "cell_type": "code",
   "execution_count": 3,
   "id": "7c83685c",
   "metadata": {},
   "outputs": [
    {
     "name": "stdout",
     "output_type": "stream",
     "text": [
      "['Chicago', 'New York', 'Cincinatti', 'LA']\n"
     ]
    }
   ],
   "source": [
    "print(top_cities)"
   ]
  },
  {
   "cell_type": "code",
   "execution_count": 4,
   "id": "331c643a",
   "metadata": {},
   "outputs": [],
   "source": [
    "top_cities = ['Chicago','New York','Citi citi','Cincinatti','LA']\n"
   ]
  },
  {
   "cell_type": "code",
   "execution_count": 5,
   "id": "b8c1f2c7",
   "metadata": {},
   "outputs": [],
   "source": [
    "del top_cities[0:1]"
   ]
  },
  {
   "cell_type": "code",
   "execution_count": 6,
   "id": "98d27a6d",
   "metadata": {},
   "outputs": [
    {
     "data": {
      "text/plain": [
       "['New York', 'Citi citi', 'Cincinatti', 'LA']"
      ]
     },
     "execution_count": 6,
     "metadata": {},
     "output_type": "execute_result"
    }
   ],
   "source": [
    "top_cities"
   ]
  },
  {
   "cell_type": "code",
   "execution_count": 7,
   "id": "6db4f2bc",
   "metadata": {},
   "outputs": [],
   "source": [
    "top_cities = ['Chicago','New York','Citi citi','Cincinatti','LA']\n",
    "\n"
   ]
  },
  {
   "cell_type": "code",
   "execution_count": 8,
   "id": "7e1ee3f3",
   "metadata": {},
   "outputs": [],
   "source": [
    "del top_cities[:] #slice"
   ]
  },
  {
   "cell_type": "code",
   "execution_count": 9,
   "id": "b717c502",
   "metadata": {},
   "outputs": [
    {
     "data": {
      "text/plain": [
       "[]"
      ]
     },
     "execution_count": 9,
     "metadata": {},
     "output_type": "execute_result"
    }
   ],
   "source": [
    "top_cities"
   ]
  },
  {
   "cell_type": "code",
   "execution_count": 10,
   "id": "1ae82f0b",
   "metadata": {},
   "outputs": [],
   "source": [
    "del top_cities"
   ]
  },
  {
   "cell_type": "code",
   "execution_count": null,
   "id": "67a97af2",
   "metadata": {},
   "outputs": [],
   "source": []
  }
 ],
 "metadata": {
  "kernelspec": {
   "display_name": "Python 3 (ipykernel)",
   "language": "python",
   "name": "python3"
  },
  "language_info": {
   "codemirror_mode": {
    "name": "ipython",
    "version": 3
   },
   "file_extension": ".py",
   "mimetype": "text/x-python",
   "name": "python",
   "nbconvert_exporter": "python",
   "pygments_lexer": "ipython3",
   "version": "3.9.7"
  }
 },
 "nbformat": 4,
 "nbformat_minor": 5
}
