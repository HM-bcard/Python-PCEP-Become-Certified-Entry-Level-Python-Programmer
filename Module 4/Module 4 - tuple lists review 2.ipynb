{
 "cells": [
  {
   "cell_type": "code",
   "execution_count": 1,
   "id": "19f40fc5",
   "metadata": {},
   "outputs": [],
   "source": [
    "city_1 = ('London', 'UK', 8.98)\n"
   ]
  },
  {
   "cell_type": "code",
   "execution_count": 2,
   "id": "a88a49ff",
   "metadata": {},
   "outputs": [],
   "source": [
    "city_2 = ('Canberra', 'Australia', 0.4)\n"
   ]
  },
  {
   "cell_type": "code",
   "execution_count": 3,
   "id": "297e3036",
   "metadata": {},
   "outputs": [],
   "source": [
    "city_3 = ('Algiers', 'Algeria', 3.9)"
   ]
  },
  {
   "cell_type": "code",
   "execution_count": 4,
   "id": "fa809fed",
   "metadata": {},
   "outputs": [],
   "source": [
    "capitals = [city_1, city_2, city_3]"
   ]
  },
  {
   "cell_type": "code",
   "execution_count": 5,
   "id": "cb586fb6",
   "metadata": {},
   "outputs": [
    {
     "name": "stdout",
     "output_type": "stream",
     "text": [
      "[('London', 'UK', 8.98), ('Canberra', 'Australia', 0.4), ('Algiers', 'Algeria', 3.9)]\n"
     ]
    }
   ],
   "source": [
    "print(capitals)"
   ]
  },
  {
   "cell_type": "code",
   "execution_count": null,
   "id": "59c8fef1",
   "metadata": {},
   "outputs": [],
   "source": []
  }
 ],
 "metadata": {
  "kernelspec": {
   "display_name": "Python 3 (ipykernel)",
   "language": "python",
   "name": "python3"
  },
  "language_info": {
   "codemirror_mode": {
    "name": "ipython",
    "version": 3
   },
   "file_extension": ".py",
   "mimetype": "text/x-python",
   "name": "python",
   "nbconvert_exporter": "python",
   "pygments_lexer": "ipython3",
   "version": "3.9.7"
  }
 },
 "nbformat": 4,
 "nbformat_minor": 5
}
