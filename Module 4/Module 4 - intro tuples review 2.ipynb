{
 "cells": [
  {
   "cell_type": "code",
   "execution_count": 1,
   "id": "2e746fa3",
   "metadata": {},
   "outputs": [],
   "source": [
    "empty_tuple = ()"
   ]
  },
  {
   "cell_type": "code",
   "execution_count": 2,
   "id": "0eb92db6",
   "metadata": {},
   "outputs": [],
   "source": [
    "three_el_tuple = 1,2,3"
   ]
  },
  {
   "cell_type": "code",
   "execution_count": 3,
   "id": "ac948eaf",
   "metadata": {},
   "outputs": [],
   "source": [
    "one1_el_tuple = (1,)"
   ]
  },
  {
   "cell_type": "code",
   "execution_count": 4,
   "id": "5961cfd5",
   "metadata": {},
   "outputs": [],
   "source": [
    "one_el_tuple = 1,"
   ]
  },
  {
   "cell_type": "code",
   "execution_count": 5,
   "id": "ea2f04c2",
   "metadata": {},
   "outputs": [],
   "source": [
    "#tuples are immutable ( you can replace them but not achnge them)"
   ]
  },
  {
   "cell_type": "code",
   "execution_count": 6,
   "id": "86ff8dcd",
   "metadata": {},
   "outputs": [],
   "source": [
    "user_data = ('John', 59, 'American')"
   ]
  },
  {
   "cell_type": "code",
   "execution_count": 7,
   "id": "644a1d5f",
   "metadata": {},
   "outputs": [
    {
     "name": "stdout",
     "output_type": "stream",
     "text": [
      "('John', 59, 'American')\n"
     ]
    }
   ],
   "source": [
    "print(user_data)"
   ]
  },
  {
   "cell_type": "code",
   "execution_count": null,
   "id": "f023d0a9",
   "metadata": {},
   "outputs": [],
   "source": []
  }
 ],
 "metadata": {
  "kernelspec": {
   "display_name": "Python 3 (ipykernel)",
   "language": "python",
   "name": "python3"
  },
  "language_info": {
   "codemirror_mode": {
    "name": "ipython",
    "version": 3
   },
   "file_extension": ".py",
   "mimetype": "text/x-python",
   "name": "python",
   "nbconvert_exporter": "python",
   "pygments_lexer": "ipython3",
   "version": "3.9.7"
  }
 },
 "nbformat": 4,
 "nbformat_minor": 5
}
