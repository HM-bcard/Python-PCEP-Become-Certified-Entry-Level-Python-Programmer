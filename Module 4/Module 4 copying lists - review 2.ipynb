{
 "cells": [
  {
   "cell_type": "code",
   "execution_count": 1,
   "id": "c2fcb1b9",
   "metadata": {},
   "outputs": [
    {
     "data": {
      "text/plain": [
       "[69, 2, 3]"
      ]
     },
     "execution_count": 1,
     "metadata": {},
     "output_type": "execute_result"
    }
   ],
   "source": [
    "list_org = [1,2,3]\n",
    "list_new = [2,3,4]\n",
    "list_new = list_org \n",
    "list_org[0] = 69\n",
    "list_org\n",
    "list_new"
   ]
  },
  {
   "cell_type": "code",
   "execution_count": 2,
   "id": "48354a3a",
   "metadata": {},
   "outputs": [
    {
     "data": {
      "text/plain": [
       "[69, 2, 3]"
      ]
     },
     "execution_count": 2,
     "metadata": {},
     "output_type": "execute_result"
    }
   ],
   "source": [
    "list_org"
   ]
  },
  {
   "cell_type": "code",
   "execution_count": 3,
   "id": "de23d943",
   "metadata": {},
   "outputs": [],
   "source": [
    "list_new=list_org[:]"
   ]
  },
  {
   "cell_type": "code",
   "execution_count": 4,
   "id": "5f4864fa",
   "metadata": {},
   "outputs": [],
   "source": [
    "list_org.append(5)"
   ]
  },
  {
   "cell_type": "code",
   "execution_count": 5,
   "id": "3751a96a",
   "metadata": {},
   "outputs": [
    {
     "data": {
      "text/plain": [
       "[69, 2, 3]"
      ]
     },
     "execution_count": 5,
     "metadata": {},
     "output_type": "execute_result"
    }
   ],
   "source": [
    "list_new"
   ]
  },
  {
   "cell_type": "code",
   "execution_count": null,
   "id": "487d3697",
   "metadata": {},
   "outputs": [],
   "source": []
  }
 ],
 "metadata": {
  "kernelspec": {
   "display_name": "Python 3 (ipykernel)",
   "language": "python",
   "name": "python3"
  },
  "language_info": {
   "codemirror_mode": {
    "name": "ipython",
    "version": 3
   },
   "file_extension": ".py",
   "mimetype": "text/x-python",
   "name": "python",
   "nbconvert_exporter": "python",
   "pygments_lexer": "ipython3",
   "version": "3.9.7"
  }
 },
 "nbformat": 4,
 "nbformat_minor": 5
}
