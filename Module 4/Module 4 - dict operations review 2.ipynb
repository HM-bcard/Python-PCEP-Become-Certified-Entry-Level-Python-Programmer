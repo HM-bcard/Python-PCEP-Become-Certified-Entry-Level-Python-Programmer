{
 "cells": [
  {
   "cell_type": "code",
   "execution_count": 1,
   "id": "bf93fee9",
   "metadata": {},
   "outputs": [],
   "source": [
    "grades_dict = {}"
   ]
  },
  {
   "cell_type": "code",
   "execution_count": 3,
   "id": "95865a00",
   "metadata": {},
   "outputs": [],
   "source": [
    "grades_dict['John'] = 'A-'"
   ]
  },
  {
   "cell_type": "code",
   "execution_count": 4,
   "id": "8639c3e0",
   "metadata": {},
   "outputs": [],
   "source": [
    "grades_dict['Anna'] = 'B'"
   ]
  },
  {
   "cell_type": "code",
   "execution_count": 5,
   "id": "32ad1d0b",
   "metadata": {},
   "outputs": [
    {
     "name": "stdout",
     "output_type": "stream",
     "text": [
      "{'John': 'A-', 'Anna': 'B'}\n"
     ]
    }
   ],
   "source": [
    "print(grades_dict)"
   ]
  },
  {
   "cell_type": "code",
   "execution_count": 6,
   "id": "f9416474",
   "metadata": {},
   "outputs": [],
   "source": [
    "grades_dict.update({'John':'A'})"
   ]
  },
  {
   "cell_type": "code",
   "execution_count": 7,
   "id": "0316f669",
   "metadata": {},
   "outputs": [
    {
     "name": "stdout",
     "output_type": "stream",
     "text": [
      "{'John': 'A', 'Anna': 'B'}\n"
     ]
    }
   ],
   "source": [
    "print(grades_dict)"
   ]
  },
  {
   "cell_type": "code",
   "execution_count": 8,
   "id": "3cc88d81",
   "metadata": {},
   "outputs": [
    {
     "data": {
      "text/plain": [
       "2"
      ]
     },
     "execution_count": 8,
     "metadata": {},
     "output_type": "execute_result"
    }
   ],
   "source": [
    "len(grades_dict)"
   ]
  },
  {
   "cell_type": "code",
   "execution_count": 10,
   "id": "ead45479",
   "metadata": {},
   "outputs": [
    {
     "name": "stdout",
     "output_type": "stream",
     "text": [
      "John got: A\n"
     ]
    }
   ],
   "source": [
    "if 'John' in grades_dict:\n",
    "    print('John got:', grades_dict['John'])"
   ]
  },
  {
   "cell_type": "code",
   "execution_count": 11,
   "id": "66c5dcfc",
   "metadata": {},
   "outputs": [],
   "source": [
    "del grades_dict['John']"
   ]
  },
  {
   "cell_type": "code",
   "execution_count": 12,
   "id": "202edaaf",
   "metadata": {},
   "outputs": [
    {
     "data": {
      "text/plain": [
       "{'Anna': 'B'}"
      ]
     },
     "execution_count": 12,
     "metadata": {},
     "output_type": "execute_result"
    }
   ],
   "source": [
    "grades_dict"
   ]
  },
  {
   "cell_type": "code",
   "execution_count": 13,
   "id": "71d2d469",
   "metadata": {},
   "outputs": [],
   "source": [
    "del grades_dict"
   ]
  },
  {
   "cell_type": "code",
   "execution_count": 14,
   "id": "b0480f00",
   "metadata": {},
   "outputs": [],
   "source": [
    "grades_dict = {}\n",
    "grades_dict['John'] = 'A-'\n",
    "grades_dict['Anna'] = 'B'"
   ]
  },
  {
   "cell_type": "code",
   "execution_count": 15,
   "id": "d3a67825",
   "metadata": {},
   "outputs": [
    {
     "name": "stdout",
     "output_type": "stream",
     "text": [
      "John\n",
      "Anna\n"
     ]
    }
   ],
   "source": [
    "for i in grades_dict:\n",
    "    print(i)"
   ]
  },
  {
   "cell_type": "code",
   "execution_count": 16,
   "id": "962aa978",
   "metadata": {},
   "outputs": [
    {
     "name": "stdout",
     "output_type": "stream",
     "text": [
      "('John', 'A-')\n",
      "('Anna', 'B')\n"
     ]
    }
   ],
   "source": [
    "for i in grades_dict.items():\n",
    "    print(i)"
   ]
  },
  {
   "cell_type": "code",
   "execution_count": 17,
   "id": "3437a2bd",
   "metadata": {},
   "outputs": [
    {
     "name": "stdout",
     "output_type": "stream",
     "text": [
      "John\n",
      "Anna\n"
     ]
    }
   ],
   "source": [
    "for i in grades_dict.keys():\n",
    "    print(i)"
   ]
  },
  {
   "cell_type": "code",
   "execution_count": 18,
   "id": "96c25762",
   "metadata": {},
   "outputs": [
    {
     "name": "stdout",
     "output_type": "stream",
     "text": [
      "A-\n",
      "B\n"
     ]
    }
   ],
   "source": [
    "for i in grades_dict.values():\n",
    "    print(i)"
   ]
  },
  {
   "cell_type": "code",
   "execution_count": null,
   "id": "784420b1",
   "metadata": {},
   "outputs": [],
   "source": []
  }
 ],
 "metadata": {
  "kernelspec": {
   "display_name": "Python 3 (ipykernel)",
   "language": "python",
   "name": "python3"
  },
  "language_info": {
   "codemirror_mode": {
    "name": "ipython",
    "version": 3
   },
   "file_extension": ".py",
   "mimetype": "text/x-python",
   "name": "python",
   "nbconvert_exporter": "python",
   "pygments_lexer": "ipython3",
   "version": "3.9.7"
  }
 },
 "nbformat": 4,
 "nbformat_minor": 5
}
