{
 "cells": [
  {
   "cell_type": "code",
   "execution_count": 1,
   "id": "9db174ab",
   "metadata": {},
   "outputs": [],
   "source": [
    "top_cities = ['New York City','Los Angeles','Chicago','Houston','Phoenix']"
   ]
  },
  {
   "cell_type": "code",
   "execution_count": 2,
   "id": "7a18b6f3",
   "metadata": {},
   "outputs": [],
   "source": [
    "book_ratings = [2,3,4,5,6,7,8,]"
   ]
  },
  {
   "cell_type": "code",
   "execution_count": 3,
   "id": "990185d0",
   "metadata": {},
   "outputs": [],
   "source": [
    "book_ratings.append(1)"
   ]
  },
  {
   "cell_type": "code",
   "execution_count": 4,
   "id": "c6bfd39c",
   "metadata": {},
   "outputs": [],
   "source": [
    "book_ratings.insert(1,5)"
   ]
  },
  {
   "cell_type": "code",
   "execution_count": null,
   "id": "459d6b33",
   "metadata": {},
   "outputs": [],
   "source": []
  }
 ],
 "metadata": {
  "kernelspec": {
   "display_name": "Python 3 (ipykernel)",
   "language": "python",
   "name": "python3"
  },
  "language_info": {
   "codemirror_mode": {
    "name": "ipython",
    "version": 3
   },
   "file_extension": ".py",
   "mimetype": "text/x-python",
   "name": "python",
   "nbconvert_exporter": "python",
   "pygments_lexer": "ipython3",
   "version": "3.9.7"
  }
 },
 "nbformat": 4,
 "nbformat_minor": 5
}
