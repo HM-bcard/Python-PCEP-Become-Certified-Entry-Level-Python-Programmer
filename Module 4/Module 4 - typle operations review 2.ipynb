{
 "cells": [
  {
   "cell_type": "code",
   "execution_count": 1,
   "id": "458e17c3",
   "metadata": {},
   "outputs": [],
   "source": [
    "user_data = ('John', 59, 'American')"
   ]
  },
  {
   "cell_type": "code",
   "execution_count": 2,
   "id": "8c7e1421",
   "metadata": {},
   "outputs": [
    {
     "name": "stdout",
     "output_type": "stream",
     "text": [
      "3\n"
     ]
    }
   ],
   "source": [
    "print(len(user_data))"
   ]
  },
  {
   "cell_type": "code",
   "execution_count": 3,
   "id": "4f898ba4",
   "metadata": {},
   "outputs": [
    {
     "name": "stdout",
     "output_type": "stream",
     "text": [
      "Helllll\n"
     ]
    }
   ],
   "source": [
    "if 'American' in user_data:\n",
    "    print('Helllll')"
   ]
  },
  {
   "cell_type": "code",
   "execution_count": 4,
   "id": "712954bb",
   "metadata": {},
   "outputs": [
    {
     "name": "stdout",
     "output_type": "stream",
     "text": [
      "666\n",
      "666\n",
      "666\n"
     ]
    }
   ],
   "source": [
    "for x in user_data:\n",
    "    print('666')"
   ]
  },
  {
   "cell_type": "code",
   "execution_count": 5,
   "id": "af2d3bd5",
   "metadata": {},
   "outputs": [
    {
     "name": "stdout",
     "output_type": "stream",
     "text": [
      "(0, 1)\n"
     ]
    }
   ],
   "source": [
    "numbers = (0,1)\n",
    "print(numbers)"
   ]
  },
  {
   "cell_type": "code",
   "execution_count": 6,
   "id": "853b9f30",
   "metadata": {},
   "outputs": [],
   "source": [
    "# generally use lists for sets of the same types of data\n",
    "# use tuples for grouping different types"
   ]
  },
  {
   "cell_type": "code",
   "execution_count": 7,
   "id": "dfd58dad",
   "metadata": {},
   "outputs": [],
   "source": [
    "names = ['Mark','Luke','John']"
   ]
  },
  {
   "cell_type": "code",
   "execution_count": 8,
   "id": "dfde4acc",
   "metadata": {},
   "outputs": [],
   "source": [
    "temps = [11.5,12.5,13.5]"
   ]
  },
  {
   "cell_type": "code",
   "execution_count": null,
   "id": "a14c7a59",
   "metadata": {},
   "outputs": [],
   "source": []
  }
 ],
 "metadata": {
  "kernelspec": {
   "display_name": "Python 3 (ipykernel)",
   "language": "python",
   "name": "python3"
  },
  "language_info": {
   "codemirror_mode": {
    "name": "ipython",
    "version": 3
   },
   "file_extension": ".py",
   "mimetype": "text/x-python",
   "name": "python",
   "nbconvert_exporter": "python",
   "pygments_lexer": "ipython3",
   "version": "3.9.7"
  }
 },
 "nbformat": 4,
 "nbformat_minor": 5
}
