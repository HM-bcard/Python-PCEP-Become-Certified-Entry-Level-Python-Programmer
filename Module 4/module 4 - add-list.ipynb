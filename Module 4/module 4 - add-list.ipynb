{
 "cells": [
  {
   "cell_type": "code",
   "execution_count": 1,
   "id": "d995f695",
   "metadata": {},
   "outputs": [
    {
     "name": "stdout",
     "output_type": "stream",
     "text": [
      "hello\n"
     ]
    }
   ],
   "source": [
    "print('hello')"
   ]
  },
  {
   "cell_type": "code",
   "execution_count": null,
   "id": "2eaf674f",
   "metadata": {},
   "outputs": [],
   "source": [
    "name = input('name?')"
   ]
  },
  {
   "cell_type": "code",
   "execution_count": null,
   "id": "9f2fec38",
   "metadata": {},
   "outputs": [],
   "source": [
    "book_ratings = [7, 9, 5, 6, 8]\n",
    "book_ratings.append(4)\n",
    "print(book_ratings)"
   ]
  },
  {
   "cell_type": "code",
   "execution_count": null,
   "id": "88de919d",
   "metadata": {},
   "outputs": [],
   "source": [
    "append(4)"
   ]
  },
  {
   "cell_type": "code",
   "execution_count": null,
   "id": "37a886e3",
   "metadata": {},
   "outputs": [],
   "source": [
    "book_ratings = [7, 9, 5, 6, 8]\n",
    "book_ratings.insert(1, 10) # method insert first efines the index(1) and then value(10)\n",
    "print(book_ratings)"
   ]
  },
  {
   "cell_type": "code",
   "execution_count": null,
   "id": "3c433391",
   "metadata": {},
   "outputs": [],
   "source": []
  }
 ],
 "metadata": {
  "kernelspec": {
   "display_name": "Python 3 (ipykernel)",
   "language": "python",
   "name": "python3"
  },
  "language_info": {
   "codemirror_mode": {
    "name": "ipython",
    "version": 3
   },
   "file_extension": ".py",
   "mimetype": "text/x-python",
   "name": "python",
   "nbconvert_exporter": "python",
   "pygments_lexer": "ipython3",
   "version": "3.9.7"
  }
 },
 "nbformat": 4,
 "nbformat_minor": 5
}
