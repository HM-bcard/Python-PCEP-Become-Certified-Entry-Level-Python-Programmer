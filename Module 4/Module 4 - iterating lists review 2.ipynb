{
 "cells": [
  {
   "cell_type": "code",
   "execution_count": 1,
   "id": "8a5b576d",
   "metadata": {},
   "outputs": [],
   "source": [
    "top_cities = ['New York City','Los Angeles','Chicago','Houston','Phoenix']"
   ]
  },
  {
   "cell_type": "markdown",
   "id": "909810d6",
   "metadata": {},
   "source": [
    "top_cities"
   ]
  },
  {
   "cell_type": "code",
   "execution_count": 2,
   "id": "1bb7164f",
   "metadata": {},
   "outputs": [
    {
     "data": {
      "text/plain": [
       "['New York City', 'Los Angeles', 'Chicago', 'Houston', 'Phoenix']"
      ]
     },
     "execution_count": 2,
     "metadata": {},
     "output_type": "execute_result"
    }
   ],
   "source": [
    "top_cities"
   ]
  },
  {
   "cell_type": "code",
   "execution_count": 3,
   "id": "0ea273f7",
   "metadata": {},
   "outputs": [
    {
     "name": "stdout",
     "output_type": "stream",
     "text": [
      "Current city: New York City\n",
      "Current city: Los Angeles\n",
      "Current city: Chicago\n",
      "Current city: Houston\n",
      "Current city: Phoenix\n"
     ]
    }
   ],
   "source": [
    "for city in top_cities:\n",
    "    print('Current city:',city)"
   ]
  },
  {
   "cell_type": "code",
   "execution_count": 4,
   "id": "6afa0a7e",
   "metadata": {},
   "outputs": [
    {
     "name": "stdout",
     "output_type": "stream",
     "text": [
      "Qhere ya at?: New York City\n",
      "Qhere ya at?: Los Angeles\n",
      "Qhere ya at?: Chicago\n",
      "Qhere ya at?: Houston\n",
      "Qhere ya at?: Phoenix\n"
     ]
    }
   ],
   "source": [
    "for city in top_cities:\n",
    "    print('Qhere ya at?:',city)"
   ]
  },
  {
   "cell_type": "code",
   "execution_count": 6,
   "id": "6cdf6958",
   "metadata": {},
   "outputs": [
    {
     "name": "stdout",
     "output_type": "stream",
     "text": [
      "City no. is at: 1\n",
      "City no. is at: 2\n",
      "City no. is at: 3\n",
      "City no. is at: 4\n",
      "City no. is at: 5\n"
     ]
    }
   ],
   "source": [
    "for number_of_city in range(len(top_cities)):\n",
    "    print('City no. is at:',number_of_city+1)"
   ]
  },
  {
   "cell_type": "code",
   "execution_count": 8,
   "id": "72c5bf61",
   "metadata": {},
   "outputs": [],
   "source": [
    "sum_of_spendings = 0\n",
    "\n",
    "spendings = [1.23,2.45,2.67,3.66778,9]"
   ]
  },
  {
   "cell_type": "code",
   "execution_count": 9,
   "id": "5824bbd9",
   "metadata": {},
   "outputs": [
    {
     "ename": "SyntaxError",
     "evalue": "'yield' outside function (Temp/ipykernel_24552/1891676985.py, line 2)",
     "output_type": "error",
     "traceback": [
      "\u001b[1;36m  File \u001b[1;32m\"C:\\Users\\Nouser\\AppData\\Local\\Temp/ipykernel_24552/1891676985.py\"\u001b[1;36m, line \u001b[1;32m2\u001b[0m\n\u001b[1;33m    yield amount\u001b[0m\n\u001b[1;37m    ^\u001b[0m\n\u001b[1;31mSyntaxError\u001b[0m\u001b[1;31m:\u001b[0m 'yield' outside function\n"
     ]
    }
   ],
   "source": [
    "for amount in spendings:\n",
    "    yield amount"
   ]
  },
  {
   "cell_type": "code",
   "execution_count": 10,
   "id": "3b797f64",
   "metadata": {},
   "outputs": [
    {
     "name": "stdout",
     "output_type": "stream",
     "text": [
      "Total spendings total to: 19.017780000000002\n"
     ]
    }
   ],
   "source": [
    "for amount in spendings:\n",
    "    sum_of_spendings += amount\n",
    "print('Total spendings total to:', sum_of_spendings)"
   ]
  },
  {
   "cell_type": "code",
   "execution_count": null,
   "id": "69e27e0c",
   "metadata": {},
   "outputs": [],
   "source": []
  }
 ],
 "metadata": {
  "kernelspec": {
   "display_name": "Python 3 (ipykernel)",
   "language": "python",
   "name": "python3"
  },
  "language_info": {
   "codemirror_mode": {
    "name": "ipython",
    "version": 3
   },
   "file_extension": ".py",
   "mimetype": "text/x-python",
   "name": "python",
   "nbconvert_exporter": "python",
   "pygments_lexer": "ipython3",
   "version": "3.9.7"
  }
 },
 "nbformat": 4,
 "nbformat_minor": 5
}
