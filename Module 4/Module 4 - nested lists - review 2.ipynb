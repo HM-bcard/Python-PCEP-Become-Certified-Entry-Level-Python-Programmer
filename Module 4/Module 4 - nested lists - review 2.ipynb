{
 "cells": [
  {
   "cell_type": "code",
   "execution_count": 2,
   "id": "b30d497e",
   "metadata": {},
   "outputs": [],
   "source": [
    "list_1 = [[1,1,2],[2,0,1],['hurry','up', 'your', 'learning']]"
   ]
  },
  {
   "cell_type": "code",
   "execution_count": 3,
   "id": "7a58e041",
   "metadata": {},
   "outputs": [
    {
     "data": {
      "text/plain": [
       "2"
      ]
     },
     "execution_count": 3,
     "metadata": {},
     "output_type": "execute_result"
    }
   ],
   "source": [
    "list_1[0][2]"
   ]
  },
  {
   "cell_type": "code",
   "execution_count": 4,
   "id": "f343bd41",
   "metadata": {},
   "outputs": [
    {
     "name": "stdout",
     "output_type": "stream",
     "text": [
      "[1, 1, 2]\n",
      "[2, 0, 1]\n",
      "['hurry', 'up', 'your', 'learning']\n"
     ]
    }
   ],
   "source": [
    "list_1 = [[1,1,2],[2,0,1],['hurry','up', 'your', 'learning']]\n",
    "for x in list_1:\n",
    "    print(x)"
   ]
  },
  {
   "cell_type": "code",
   "execution_count": 5,
   "id": "30db6813",
   "metadata": {},
   "outputs": [
    {
     "name": "stdout",
     "output_type": "stream",
     "text": [
      "1\n",
      "1\n",
      "2\n",
      "2\n",
      "0\n",
      "1\n",
      "hurry\n",
      "up\n",
      "your\n",
      "learning\n"
     ]
    }
   ],
   "source": [
    "list_1 = [[1,1,2],[2,0,1],['hurry','up', 'your', 'learning']]\n",
    "for x in list_1:\n",
    "    for y in x:\n",
    "        print(y)"
   ]
  },
  {
   "cell_type": "code",
   "execution_count": 6,
   "id": "5938791d",
   "metadata": {},
   "outputs": [
    {
     "name": "stdout",
     "output_type": "stream",
     "text": [
      "A1 A2 A3 \n",
      "B1 B2 B3 \n"
     ]
    }
   ],
   "source": [
    "table = [['A1','A2','A3'],['B1', 'B2', 'B3']]\n",
    "for row in table:\n",
    "    for cell in row:\n",
    "        print(cell,'',end='')\n",
    "    print()"
   ]
  },
  {
   "cell_type": "code",
   "execution_count": 7,
   "id": "2cdbe543",
   "metadata": {},
   "outputs": [
    {
     "name": "stdout",
     "output_type": "stream",
     "text": [
      "[1, 2, 3, 4, 5]\n"
     ]
    }
   ],
   "source": [
    "table = [i for i in range(1,6)]\n",
    "print(table)"
   ]
  },
  {
   "cell_type": "code",
   "execution_count": 8,
   "id": "bd46741e",
   "metadata": {},
   "outputs": [
    {
     "name": "stdout",
     "output_type": "stream",
     "text": [
      "[[1, 2, 3, 4, 5], [1, 2, 3, 4, 5], [1, 2, 3, 4, 5], [1, 2, 3, 4, 5]]\n"
     ]
    }
   ],
   "source": [
    "table = [[i for i in range(1,6)] for j in range(4)]\n",
    "print(table)"
   ]
  },
  {
   "cell_type": "code",
   "execution_count": null,
   "id": "0d5f51fd",
   "metadata": {},
   "outputs": [],
   "source": []
  }
 ],
 "metadata": {
  "kernelspec": {
   "display_name": "Python 3 (ipykernel)",
   "language": "python",
   "name": "python3"
  },
  "language_info": {
   "codemirror_mode": {
    "name": "ipython",
    "version": 3
   },
   "file_extension": ".py",
   "mimetype": "text/x-python",
   "name": "python",
   "nbconvert_exporter": "python",
   "pygments_lexer": "ipython3",
   "version": "3.9.7"
  }
 },
 "nbformat": 4,
 "nbformat_minor": 5
}
