{
 "cells": [
  {
   "cell_type": "code",
   "execution_count": 2,
   "id": "fe80c214",
   "metadata": {},
   "outputs": [
    {
     "name": "stdout",
     "output_type": "stream",
     "text": [
      "US!\n"
     ]
    }
   ],
   "source": [
    "data = 'john', 'American' , 1964\n",
    "if 'American' in data:\n",
    "    print('US!')"
   ]
  },
  {
   "cell_type": "code",
   "execution_count": 3,
   "id": "1a0ec4ff",
   "metadata": {},
   "outputs": [
    {
     "name": "stdout",
     "output_type": "stream",
     "text": [
      "US!\n",
      "US!\n",
      "US!\n"
     ]
    }
   ],
   "source": [
    "data = 'john', 'American' , 1964\n",
    "for datapoint in data:\n",
    "    print('US!')"
   ]
  },
  {
   "cell_type": "code",
   "execution_count": 5,
   "id": "d06a39a2",
   "metadata": {},
   "outputs": [
    {
     "name": "stdout",
     "output_type": "stream",
     "text": [
      "US!\n",
      "US!\n",
      "US!\n",
      "US!\n",
      "US!\n"
     ]
    }
   ],
   "source": [
    "data = 'john', 'American' , 1964,  + 23, 44\n",
    "for datapoint in data:\n",
    "    print('US!')"
   ]
  },
  {
   "cell_type": "code",
   "execution_count": null,
   "id": "de2d5522",
   "metadata": {},
   "outputs": [],
   "source": []
  }
 ],
 "metadata": {
  "kernelspec": {
   "display_name": "Python 3 (ipykernel)",
   "language": "python",
   "name": "python3"
  },
  "language_info": {
   "codemirror_mode": {
    "name": "ipython",
    "version": 3
   },
   "file_extension": ".py",
   "mimetype": "text/x-python",
   "name": "python",
   "nbconvert_exporter": "python",
   "pygments_lexer": "ipython3",
   "version": "3.9.7"
  }
 },
 "nbformat": 4,
 "nbformat_minor": 5
}
